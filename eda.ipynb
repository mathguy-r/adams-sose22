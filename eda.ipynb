{
 "cells": [
  {
   "cell_type": "code",
   "execution_count": 114,
   "metadata": {},
   "outputs": [],
   "source": [
    "import pandas as pd \n",
    "\n",
    "train = pd.read_csv('train.csv')\n",
    "test = pd.read_csv('test.csv')\n",
    "reviews = pd.read_csv('reviews.csv')\n",
    "\n"
   ]
  },
  {
   "cell_type": "code",
   "execution_count": 115,
   "metadata": {},
   "outputs": [
    {
     "data": {
      "text/html": [
       "<div>\n",
       "<style scoped>\n",
       "    .dataframe tbody tr th:only-of-type {\n",
       "        vertical-align: middle;\n",
       "    }\n",
       "\n",
       "    .dataframe tbody tr th {\n",
       "        vertical-align: top;\n",
       "    }\n",
       "\n",
       "    .dataframe thead th {\n",
       "        text-align: right;\n",
       "    }\n",
       "</style>\n",
       "<table border=\"1\" class=\"dataframe\">\n",
       "  <thead>\n",
       "    <tr style=\"text-align: right;\">\n",
       "      <th></th>\n",
       "      <th>name</th>\n",
       "      <th>summary</th>\n",
       "      <th>space</th>\n",
       "      <th>description</th>\n",
       "      <th>experiences_offered</th>\n",
       "      <th>neighborhood_overview</th>\n",
       "      <th>transit</th>\n",
       "      <th>house_rules</th>\n",
       "      <th>picture_url</th>\n",
       "      <th>host_id</th>\n",
       "      <th>...</th>\n",
       "      <th>review_scores_rating</th>\n",
       "      <th>review_scores_accuracy</th>\n",
       "      <th>review_scores_cleanliness</th>\n",
       "      <th>review_scores_checkin</th>\n",
       "      <th>review_scores_communication</th>\n",
       "      <th>review_scores_location</th>\n",
       "      <th>review_scores_value</th>\n",
       "      <th>cancellation_policy</th>\n",
       "      <th>reviews_per_month</th>\n",
       "      <th>listing_id</th>\n",
       "    </tr>\n",
       "  </thead>\n",
       "  <tbody>\n",
       "    <tr>\n",
       "      <th>0</th>\n",
       "      <td>Attic Room in historic Greenwich</td>\n",
       "      <td>The room does not have a door but its own disc...</td>\n",
       "      <td>Double room available in historic royal Greenw...</td>\n",
       "      <td>The room does not have a door but its own disc...</td>\n",
       "      <td>business</td>\n",
       "      <td>NaN</td>\n",
       "      <td>Parking is restricted in London. Visitors park...</td>\n",
       "      <td>no shoes on carpets no food in attic room no o...</td>\n",
       "      <td>https://a0.muscache.com/im/pictures/20045164/7...</td>\n",
       "      <td>2167992</td>\n",
       "      <td>...</td>\n",
       "      <td>95.0</td>\n",
       "      <td>10.0</td>\n",
       "      <td>10.0</td>\n",
       "      <td>10.0</td>\n",
       "      <td>10.0</td>\n",
       "      <td>10.0</td>\n",
       "      <td>10.0</td>\n",
       "      <td>strict_14_with_grace_period</td>\n",
       "      <td>2.37</td>\n",
       "      <td>9Q1RD6H7IO</td>\n",
       "    </tr>\n",
       "    <tr>\n",
       "      <th>1</th>\n",
       "      <td>Lovely Garden Studio Private Access</td>\n",
       "      <td>Garden studio with private entrance, 5 minutes...</td>\n",
       "      <td>Beautiful studio with a king size bed, a sofa ...</td>\n",
       "      <td>Garden studio with private entrance, 5 minutes...</td>\n",
       "      <td>none</td>\n",
       "      <td>Crouch End is a very hip and friendly neighbou...</td>\n",
       "      <td>Walk across the street to the W3 bus stop and ...</td>\n",
       "      <td>We'd love it if you would remove your shoes at...</td>\n",
       "      <td>https://a0.muscache.com/im/pictures/8d1ddcdc-f...</td>\n",
       "      <td>16148175</td>\n",
       "      <td>...</td>\n",
       "      <td>99.0</td>\n",
       "      <td>10.0</td>\n",
       "      <td>10.0</td>\n",
       "      <td>10.0</td>\n",
       "      <td>10.0</td>\n",
       "      <td>10.0</td>\n",
       "      <td>10.0</td>\n",
       "      <td>moderate</td>\n",
       "      <td>2.97</td>\n",
       "      <td>6XDPZPGLSR</td>\n",
       "    </tr>\n",
       "  </tbody>\n",
       "</table>\n",
       "<p>2 rows × 42 columns</p>\n",
       "</div>"
      ],
      "text/plain": [
       "                                  name  \\\n",
       "0     Attic Room in historic Greenwich   \n",
       "1  Lovely Garden Studio Private Access   \n",
       "\n",
       "                                             summary  \\\n",
       "0  The room does not have a door but its own disc...   \n",
       "1  Garden studio with private entrance, 5 minutes...   \n",
       "\n",
       "                                               space  \\\n",
       "0  Double room available in historic royal Greenw...   \n",
       "1  Beautiful studio with a king size bed, a sofa ...   \n",
       "\n",
       "                                         description experiences_offered  \\\n",
       "0  The room does not have a door but its own disc...            business   \n",
       "1  Garden studio with private entrance, 5 minutes...                none   \n",
       "\n",
       "                               neighborhood_overview  \\\n",
       "0                                                NaN   \n",
       "1  Crouch End is a very hip and friendly neighbou...   \n",
       "\n",
       "                                             transit  \\\n",
       "0  Parking is restricted in London. Visitors park...   \n",
       "1  Walk across the street to the W3 bus stop and ...   \n",
       "\n",
       "                                         house_rules  \\\n",
       "0  no shoes on carpets no food in attic room no o...   \n",
       "1  We'd love it if you would remove your shoes at...   \n",
       "\n",
       "                                         picture_url   host_id  ...  \\\n",
       "0  https://a0.muscache.com/im/pictures/20045164/7...   2167992  ...   \n",
       "1  https://a0.muscache.com/im/pictures/8d1ddcdc-f...  16148175  ...   \n",
       "\n",
       "  review_scores_rating review_scores_accuracy review_scores_cleanliness  \\\n",
       "0                 95.0                   10.0                      10.0   \n",
       "1                 99.0                   10.0                      10.0   \n",
       "\n",
       "  review_scores_checkin  review_scores_communication review_scores_location  \\\n",
       "0                  10.0                         10.0                   10.0   \n",
       "1                  10.0                         10.0                   10.0   \n",
       "\n",
       "  review_scores_value          cancellation_policy reviews_per_month  \\\n",
       "0                10.0  strict_14_with_grace_period              2.37   \n",
       "1                10.0                     moderate              2.97   \n",
       "\n",
       "   listing_id  \n",
       "0  9Q1RD6H7IO  \n",
       "1  6XDPZPGLSR  \n",
       "\n",
       "[2 rows x 42 columns]"
      ]
     },
     "execution_count": 115,
     "metadata": {},
     "output_type": "execute_result"
    }
   ],
   "source": [
    "train.head(2)"
   ]
  },
  {
   "cell_type": "code",
   "execution_count": 116,
   "metadata": {},
   "outputs": [
    {
     "data": {
      "text/html": [
       "<div>\n",
       "<style scoped>\n",
       "    .dataframe tbody tr th:only-of-type {\n",
       "        vertical-align: middle;\n",
       "    }\n",
       "\n",
       "    .dataframe tbody tr th {\n",
       "        vertical-align: top;\n",
       "    }\n",
       "\n",
       "    .dataframe thead th {\n",
       "        text-align: right;\n",
       "    }\n",
       "</style>\n",
       "<table border=\"1\" class=\"dataframe\">\n",
       "  <thead>\n",
       "    <tr style=\"text-align: right;\">\n",
       "      <th></th>\n",
       "      <th>reviewer_id</th>\n",
       "      <th>comments</th>\n",
       "      <th>review_id</th>\n",
       "      <th>listing_id</th>\n",
       "    </tr>\n",
       "  </thead>\n",
       "  <tbody>\n",
       "    <tr>\n",
       "      <th>0</th>\n",
       "      <td>93896</td>\n",
       "      <td>The flat was bright, comfortable and clean and...</td>\n",
       "      <td>30672</td>\n",
       "      <td>8Z94Z3WMCO</td>\n",
       "    </tr>\n",
       "    <tr>\n",
       "      <th>1</th>\n",
       "      <td>97890</td>\n",
       "      <td>We stayed with Adriano and Valerio for a week ...</td>\n",
       "      <td>32236</td>\n",
       "      <td>8Z94Z3WMCO</td>\n",
       "    </tr>\n",
       "  </tbody>\n",
       "</table>\n",
       "</div>"
      ],
      "text/plain": [
       "   reviewer_id                                           comments  review_id  \\\n",
       "0        93896  The flat was bright, comfortable and clean and...      30672   \n",
       "1        97890  We stayed with Adriano and Valerio for a week ...      32236   \n",
       "\n",
       "   listing_id  \n",
       "0  8Z94Z3WMCO  \n",
       "1  8Z94Z3WMCO  "
      ]
     },
     "execution_count": 116,
     "metadata": {},
     "output_type": "execute_result"
    }
   ],
   "source": [
    "reviews.head(2)"
   ]
  },
  {
   "cell_type": "markdown",
   "metadata": {},
   "source": [
    "## EDA - feature engineering, text extraction"
   ]
  },
  {
   "cell_type": "code",
   "execution_count": 117,
   "metadata": {},
   "outputs": [
    {
     "name": "stdout",
     "output_type": "stream",
     "text": [
      "(55284, 42)\n",
      "<class 'pandas.core.frame.DataFrame'>\n",
      "RangeIndex: 55284 entries, 0 to 55283\n",
      "Data columns (total 42 columns):\n",
      " #   Column                       Non-Null Count  Dtype  \n",
      "---  ------                       --------------  -----  \n",
      " 0   name                         55270 non-null  object \n",
      " 1   summary                      52330 non-null  object \n",
      " 2   space                        38403 non-null  object \n",
      " 3   description                  53558 non-null  object \n",
      " 4   experiences_offered          55284 non-null  object \n",
      " 5   neighborhood_overview        35778 non-null  object \n",
      " 6   transit                      35477 non-null  object \n",
      " 7   house_rules                  31906 non-null  object \n",
      " 8   picture_url                  55284 non-null  object \n",
      " 9   host_id                      55284 non-null  int64  \n",
      " 10  host_since                   55173 non-null  object \n",
      " 11  host_response_time           37482 non-null  object \n",
      " 12  host_response_rate           37482 non-null  object \n",
      " 13  host_is_superhost            55173 non-null  object \n",
      " 14  host_total_listings_count    55173 non-null  float64\n",
      " 15  host_has_profile_pic         55173 non-null  object \n",
      " 16  host_identity_verified       55173 non-null  object \n",
      " 17  neighbourhood                55137 non-null  object \n",
      " 18  neighbourhood_cleansed       55284 non-null  object \n",
      " 19  zipcode                      54012 non-null  object \n",
      " 20  latitude                     55284 non-null  float64\n",
      " 21  longitude                    55284 non-null  float64\n",
      " 22  property_type                55284 non-null  object \n",
      " 23  room_type                    55284 non-null  object \n",
      " 24  accommodates                 55284 non-null  int64  \n",
      " 25  bathrooms                    55214 non-null  float64\n",
      " 26  bedrooms                     55222 non-null  float64\n",
      " 27  beds                         55022 non-null  float64\n",
      " 28  bed_type                     55284 non-null  object \n",
      " 29  amenities                    55284 non-null  object \n",
      " 30  price                        55284 non-null  float64\n",
      " 31  guests_included              55284 non-null  int64  \n",
      " 32  review_scores_rating         41869 non-null  float64\n",
      " 33  review_scores_accuracy       41836 non-null  float64\n",
      " 34  review_scores_cleanliness    41842 non-null  float64\n",
      " 35  review_scores_checkin        41801 non-null  float64\n",
      " 36  review_scores_communication  41838 non-null  float64\n",
      " 37  review_scores_location       41804 non-null  float64\n",
      " 38  review_scores_value          41804 non-null  float64\n",
      " 39  cancellation_policy          55284 non-null  object \n",
      " 40  reviews_per_month            42904 non-null  float64\n",
      " 41  listing_id                   55284 non-null  object \n",
      "dtypes: float64(15), int64(3), object(24)\n",
      "memory usage: 17.7+ MB\n",
      "None\n",
      "['host_id', 'host_total_listings_count', 'latitude', 'longitude', 'accommodates', 'bathrooms', 'bedrooms', 'beds', 'price', 'guests_included', 'review_scores_rating', 'review_scores_accuracy', 'review_scores_cleanliness', 'review_scores_checkin', 'review_scores_communication', 'review_scores_location', 'review_scores_value', 'reviews_per_month']\n",
      "['name', 'summary', 'space', 'description', 'experiences_offered', 'neighborhood_overview', 'transit', 'house_rules', 'picture_url', 'host_since', 'host_response_time', 'host_response_rate', 'host_is_superhost', 'host_has_profile_pic', 'host_identity_verified', 'neighbourhood', 'neighbourhood_cleansed', 'zipcode', 'property_type', 'room_type', 'bed_type', 'amenities', 'cancellation_policy', 'listing_id']\n"
     ]
    }
   ],
   "source": [
    "print(train.shape)\n",
    "print(train.info())\n",
    "\n",
    "num_cols = []\n",
    "text_cols = []\n",
    "\n",
    "for c in train.columns:\n",
    "    if train[c].dtypes in ['int64','float64']:\n",
    "        num_cols.append(c)\n",
    "    elif train[c].dtypes == 'O':\n",
    "        text_cols.append(c)\n",
    "    else:\n",
    "        pass\n",
    "print(num_cols)\n",
    "print(text_cols)"
   ]
  },
  {
   "cell_type": "code",
   "execution_count": 150,
   "metadata": {},
   "outputs": [],
   "source": [
    "descriptive_cols = ['name', 'summary', 'space', 'description','neighborhood_overview', 'transit', 'house_rules','neighbourhood', 'neighbourhood_cleansed']\n",
    "boolean_cols = ['host_is_superhost', 'host_has_profile_pic', 'host_identity_verified']\n",
    "categorical_cols = ['property_type', 'room_type', 'bed_type','experiences_offered','cancellation_policy']\n",
    "other_cols = ['picture_url','host_since', 'host_response_time', 'host_response_rate','amenities','zipcode','listing_id']\n",
    "\n",
    "assert len(text_cols) == len(descriptive_cols)+len(boolean_cols)+len(categorical_cols)+len(other_cols), f\"You missed {set(text_cols).difference(set(descriptive_cols+binary_cols+categorical_cols+other_cols))}\""
   ]
  },
  {
   "cell_type": "code",
   "execution_count": 119,
   "metadata": {},
   "outputs": [],
   "source": [
    "feature_df = train.copy()\n",
    "test_df = test.copy()"
   ]
  },
  {
   "cell_type": "markdown",
   "metadata": {},
   "source": [
    "### Fix Text Columns"
   ]
  },
  {
   "cell_type": "code",
   "execution_count": 151,
   "metadata": {},
   "outputs": [],
   "source": [
    "id_col = ['listing_id']\n",
    "cols_to_remove = ['picture_url','zipcode','neighbourhood','neighbourhood_cleansed','transit','house_rules','experiences_offered']"
   ]
  },
  {
   "cell_type": "markdown",
   "metadata": {},
   "source": [
    "#### Treatment of boolean columns - aim is to convert them to integers"
   ]
  },
  {
   "cell_type": "code",
   "execution_count": 121,
   "metadata": {},
   "outputs": [],
   "source": [
    "def encode_binary_var(df):\n",
    "    binary_dict = {'t':1,'f':0}\n",
    "    for c in boolean_cols:\n",
    "        df[c] = df[c].map(binary_dict)\n",
    "    return df"
   ]
  },
  {
   "cell_type": "markdown",
   "metadata": {},
   "source": [
    "#### Treatment of categorical columns - aim is to find an ordinal pattern\n"
   ]
  },
  {
   "cell_type": "code",
   "execution_count": 122,
   "metadata": {},
   "outputs": [
    {
     "name": "stdout",
     "output_type": "stream",
     "text": [
      "property_type : Townhouse,Guesthouse,Apartment,House,Condominium,Loft,Serviced apartment,Cabin,Other,Guest suite,Bed and breakfast,Cottage,Tiny house,Houseboat,Parking Space,Bungalow,Farm stay,Hotel,Camper/RV,Boutique hotel,Villa,Boat,Hostel,Yurt,Aparthotel,Hut,Earth house,Chalet,Plane,Barn,Treehouse,Island,Bus,Dome house,Windmill,Campsite,Tent,Lighthouse\n",
      "room_type : Private room,Entire home/apt,Shared room,Hotel room\n",
      "bed_type : Pull-out Sofa,Real Bed,Futon,Couch,Airbed\n",
      "experiences_offered : business,none,romantic,family,social\n",
      "cancellation_policy : strict_14_with_grace_period,moderate,flexible,super_strict_60,super_strict_30,strict,luxury_moderate,luxury_super_strict_95\n"
     ]
    }
   ],
   "source": [
    "for c in categorical_cols:\n",
    "    print(c+\" : \"+\",\".join(train[c].unique().tolist()))"
   ]
  },
  {
   "cell_type": "code",
   "execution_count": 123,
   "metadata": {},
   "outputs": [],
   "source": [
    "#### Encode Ordinal - Interpretable\n",
    "\n",
    "room_type_dict = {'Private room':2,'Entire home/apt':3,'Shared room':0,'Hotel room':1}\n",
    "\n",
    "cancellation_policy_dict = {'strict_14_with_grace_period':1,\n",
    "                        'moderate':2,\n",
    "                        'flexible':2,\n",
    "                        'super_strict_60':0,\n",
    "                        'super_strict_30':0,\n",
    "                        'strict':1,\n",
    "                        'luxury_moderate':2,\n",
    "                        'luxury_super_strict_95':0\n",
    "                        }\n",
    "\n",
    "\n",
    "#### Encode Nominal - Relative Frequency Encoded\n",
    "\n",
    "\n",
    "\n",
    "\n",
    "#### Combining Them \n",
    "\n",
    "def encode_categorical_var(df):\n",
    "    for c in categorical_cols:\n",
    "        if c not in ['room_type','cancellation_policy']:\n",
    "            df[c] = df[c].map(df[c].dropna().value_counts(normalize=True).to_dict())\n",
    "        else:\n",
    "            df['room_type'] = df.room_type.map(room_type_dict)\n",
    "            df['cancellation_policy'] = df.cancellation_policy.map(cancellation_policy_dict)\n",
    "    return df\n"
   ]
  },
  {
   "cell_type": "markdown",
   "metadata": {},
   "source": [
    "#### Treatment of other columns - aim is to create meaningful features as many as possible"
   ]
  },
  {
   "cell_type": "code",
   "execution_count": 124,
   "metadata": {},
   "outputs": [
    {
     "data": {
      "text/plain": [
       "'TV,Wifi,Free parking on premises,Breakfast,Free street parking,Heating,First aid kit,Fire extinguisher,Essentials,Shampoo,Hangers,Hair dryer,Iron,Laptop friendly workspace,translation missing: en.hosting_amenity_49,translation missing: en.hosting_amenity_50,Hot water,Coffee maker,Refrigerator,Dishes and silverware,Host greets you'"
      ]
     },
     "execution_count": 124,
     "metadata": {},
     "output_type": "execute_result"
    }
   ],
   "source": [
    "train.amenities[1].replace('{','').replace('}','').replace('\"','')"
   ]
  },
  {
   "cell_type": "code",
   "execution_count": 125,
   "metadata": {},
   "outputs": [],
   "source": [
    "### amenities\n",
    "\n",
    "from nltk.probability import FreqDist\n",
    "\n",
    "def has_top_five_amenities(df):\n",
    "    amenities = df['amenities'].tolist()\n",
    "    t = ','.join([t.replace('{','').replace('}','').replace('\"','') for t in amenities ])\n",
    "    top_five = [item for (item,_) in FreqDist(t.split(',')).most_common(5)]\n",
    "    temp = []\n",
    "    print(len(amenities))\n",
    "    for v in amenities:\n",
    "        v = v.replace('{','').replace('}','').replace('\"','').split(',')\n",
    "        temp.append(1 if all([x for x in top_five if x in v]) else 0)\n",
    "    return temp\n"
   ]
  },
  {
   "cell_type": "code",
   "execution_count": 126,
   "metadata": {},
   "outputs": [],
   "source": [
    "import datetime\n",
    "\n",
    "def encode_host_since(df):\n",
    "    temp = []\n",
    "    for d in df.host_since.tolist():\n",
    "        try:\n",
    "            year = 2022 - datetime.datetime.strptime(d,'%Y-%m-%d').year\n",
    "            temp.append(year)\n",
    "        except:\n",
    "            temp.append(d)\n",
    "            pass\n",
    "    return temp\n",
    "\n",
    "\n",
    "def encode_host_response_time(df):\n",
    "    temp = []\n",
    "    for x in df.host_response_time.tolist():\n",
    "        if x == 'within an hour':\n",
    "            temp.append(1)\n",
    "        elif pd.isna(x):\n",
    "            temp.append(np.nan)\n",
    "        else:\n",
    "            temp.append(0)\n",
    "    return temp\n",
    "\n",
    "\n",
    "\n",
    "def encode_host_response_rate(df):\n",
    "    temp = []\n",
    "    for v in df.host_response_rate.tolist():\n",
    "        try:\n",
    "            num = re.search(r'\\d+',v).group(0)\n",
    "            if int(num)>=90:\n",
    "                temp.append(1)\n",
    "            else:\n",
    "                temp.append(0)\n",
    "        except:\n",
    "            temp.append(v)\n",
    "            pass\n",
    "    return temp\n",
    "\n",
    "\n",
    "\n",
    "\n",
    "def encode_other_var(df):\n",
    "    df['host_since'] = encode_host_since(df)\n",
    "    df['host_response_rate'] = encode_host_response_rate(df)\n",
    "    df['host_response_time'] = encode_host_response_time(df)\n",
    "    df['amenities'] = has_top_five_amenities(df)\n",
    "    return df\n",
    "\n",
    "\n",
    "\n"
   ]
  },
  {
   "cell_type": "markdown",
   "metadata": {},
   "source": [
    "##### Treatment of Descriptive Columns"
   ]
  },
  {
   "cell_type": "code",
   "execution_count": 127,
   "metadata": {},
   "outputs": [
    {
     "data": {
      "text/plain": [
       "['name',\n",
       " 'summary',\n",
       " 'space',\n",
       " 'description',\n",
       " 'neighborhood_overview',\n",
       " 'transit',\n",
       " 'house_rules',\n",
       " 'neighbourhood',\n",
       " 'neighbourhood_cleansed']"
      ]
     },
     "execution_count": 127,
     "metadata": {},
     "output_type": "execute_result"
    }
   ],
   "source": [
    "list(descriptive_cols)"
   ]
  },
  {
   "cell_type": "code",
   "execution_count": 128,
   "metadata": {},
   "outputs": [],
   "source": [
    "import numpy as np\n",
    "\n",
    "def is_transit_detailed(df):\n",
    "    len_checker = lambda x:len(x.split())\n",
    "    temp = []\n",
    "    for x in df.transit.tolist():\n",
    "        flag = 0\n",
    "        if pd.notnull(x) & (len_checker(x)>3):\n",
    "            flag = 1\n",
    "        temp.append(flag)\n",
    "    return temp\n",
    "\n"
   ]
  },
  {
   "cell_type": "code",
   "execution_count": 129,
   "metadata": {},
   "outputs": [
    {
     "data": {
      "text/plain": [
       "'Beautiful studio with a king size bed, a sofa & coffee table.  Little kitchen area, equipped with a toaster, kettle, fridge, and cups, bowls, cutlery plates & biscuits! Light, self-service breakfast provided. Nice lighting and art, and a place for your suitcase and to hang your clothes. Blackout curtains for peaceful sleep.'"
      ]
     },
     "execution_count": 129,
     "metadata": {},
     "output_type": "execute_result"
    }
   ],
   "source": [
    "train.space[1]"
   ]
  },
  {
   "cell_type": "code",
   "execution_count": 130,
   "metadata": {},
   "outputs": [
    {
     "data": {
      "text/plain": [
       "'Garden studio with private entrance, 5 minutes from Crouch End & its many shops & restaurants. All modern amenities - free high speed wifi, FreeviewTV, High pressure shower, comfy King bed, toaster/kettle/fridge. Lots of room and very quiet! Beautiful studio with a king size bed, a sofa & coffee table.  Little kitchen area, equipped with a toaster, kettle, fridge, and cups, bowls, cutlery plates & biscuits! Light, self-service breakfast provided. Nice lighting and art, and a place for your suitcase and to hang your clothes. Blackout curtains for peaceful sleep. Once you have checked in to collect keys, you will have private access to your studio via a side entrance gate to our garden. We will be here to greet you and get you set up in your temporary home.  Happy to recommend local eateries and provide transport tips. Crouch End is a very hip and friendly neighbourhood.  It is filled with endless options for eating out and lots of lovely shops! Great Vietnamese restaurant Khoai Cafe, is'"
      ]
     },
     "execution_count": 130,
     "metadata": {},
     "output_type": "execute_result"
    }
   ],
   "source": [
    "train.description[1]"
   ]
  },
  {
   "cell_type": "code",
   "execution_count": 131,
   "metadata": {},
   "outputs": [
    {
     "data": {
      "text/plain": [
       "'Garden studio with private entrance, 5 minutes from Crouch End & its many shops & restaurants. All modern amenities - free high speed wifi, FreeviewTV, High pressure shower, comfy King bed, toaster/kettle/fridge. Lots of room and very quiet!'"
      ]
     },
     "execution_count": 131,
     "metadata": {},
     "output_type": "execute_result"
    }
   ],
   "source": [
    "train.summary[1]"
   ]
  },
  {
   "cell_type": "code",
   "execution_count": 132,
   "metadata": {},
   "outputs": [
    {
     "data": {
      "text/plain": [
       "'Lovely Garden Studio Private Access'"
      ]
     },
     "execution_count": 132,
     "metadata": {},
     "output_type": "execute_result"
    }
   ],
   "source": [
    "train.name[1]"
   ]
  },
  {
   "cell_type": "code",
   "execution_count": 133,
   "metadata": {},
   "outputs": [
    {
     "data": {
      "text/plain": [
       "\"Crouch End is a very hip and friendly neighbourhood.  It is filled with endless options for eating out and lots of lovely shops! Great Vietnamese restaurant Khoai Cafe, is a favourite, as is Irvin (Italian & Scottish Tapas bar!) run by the former drummer of Lloyd Cole & the Commotions. New, amazing  ice cream shop La Gelatiera will have you licking your lips and coming back for more! - but you might have to queue! Nearby Priory Road (with a lovely leafy Park just 1 min walk away) The Crouch End Broadway and surrounding streets offer a good selection of shops, trendy cafés and restaurants to choose from. Banner’s is a particularly favoured American-style restaurant on Park Road, with a dimly lit dining area and cool choice of music. The King’s Head is a popular gastro pub with a downstairs comedy club, a popular choice with local residents. Owner's favourites: The Haberdashery is a lovely cafe on Middle Lane (5 min walk, reminiscent of NYC's Greenwich Village, which serves Italian-style\""
      ]
     },
     "execution_count": 133,
     "metadata": {},
     "output_type": "execute_result"
    }
   ],
   "source": [
    "train.neighborhood_overview[1]"
   ]
  },
  {
   "cell_type": "code",
   "execution_count": 134,
   "metadata": {},
   "outputs": [
    {
     "data": {
      "text/plain": [
       "403585"
      ]
     },
     "execution_count": 134,
     "metadata": {},
     "output_type": "execute_result"
    }
   ],
   "source": [
    "temp = ' '.join(train.description.dropna().tolist())\n",
    "len(temp.split('.'))"
   ]
  },
  {
   "cell_type": "code",
   "execution_count": 135,
   "metadata": {},
   "outputs": [
    {
     "data": {
      "text/plain": [
       "name                       0.025324\n",
       "summary                    5.343318\n",
       "space                     30.535055\n",
       "description                3.122061\n",
       "neighborhood_overview     35.283265\n",
       "transit                   35.827726\n",
       "house_rules               42.287099\n",
       "neighbourhood              0.265900\n",
       "neighbourhood_cleansed     0.000000\n",
       "dtype: float64"
      ]
     },
     "execution_count": 135,
     "metadata": {},
     "output_type": "execute_result"
    }
   ],
   "source": [
    "train[[c for c in descriptive_cols]].isnull().sum()/len(train) *100\n"
   ]
  },
  {
   "cell_type": "code",
   "execution_count": 136,
   "metadata": {},
   "outputs": [
    {
     "name": "stdout",
     "output_type": "stream",
     "text": [
      "A perfectly situated, light-filled, modern flat is located, just off the Kings Road, overlooking Duke of York square. The recently refurbished flat is comprised of a spacious double bedroom and a living room with an open kitchen and a modern bathroom (with a bath and power shower).  The flat has plenty of storage, with a wall of floor to ceiling wardrobes providing plenty of hanging and shelving space - Sky TV and Internet included - 10 night minimum stay. On the King's Road, minutes on foot from Harrods, Knightsbridge, Sloane Street, you are in shoppers heaven with endless wonderful restaurants and cafes right on your doorstep.  Sloane Square and South Kensington tubes are just five minutes walk. Buckingham Palace, several museums and art galleries are also in walking distance so this makes the perfect base to explore all the wonderful delights that London has to offer. THE LOCATION: * 5 min walk to Sloane Square station  * Luxurious shops, supermarkets, leisure centres and bars/resta\n",
      "\n",
      "A perfectly situated, light-filled, modern flat is located, just off the Kings Road, overlooking Duke of York square. The recently refurbished flat is comprised of a spacious double bedroom and a living room with an open kitchen and a modern bathroom (with a bath and power shower).  The flat has plenty of storage, with a wall of floor to ceiling wardrobes providing plenty of hanging and shelving space - Sky TV and Internet included - 10 night minimum stay.\n",
      "\n",
      "Lovely 1 Bedroom Flat, Chelsea, SUMMER 2018\n",
      "\n",
      "On the King's Road, minutes on foot from Harrods, Knightsbridge, Sloane Street, you are in shoppers heaven with endless wonderful restaurants and cafes right on your doorstep.  Sloane Square and South Kensington tubes are just five minutes walk. Buckingham Palace, several museums and art galleries are also in walking distance so this makes the perfect base to explore all the wonderful delights that London has to offer. THE LOCATION: * 5 min walk to Sloane Square station  * Luxurious shops, supermarkets, leisure centres and bars/restaurants. ALL on your doorstep.\n"
     ]
    }
   ],
   "source": [
    "tmp = train.loc[train.space.isnull()&train.summary.notnull(),['name','description','summary','neighborhood_overview']]\n",
    "print(tmp.description.iloc[1])\n",
    "print()\n",
    "print(tmp.summary.iloc[1])\n",
    "print()\n",
    "print(tmp.name.iloc[1])\n",
    "print()\n",
    "print(tmp.neighborhood_overview.iloc[1])\n"
   ]
  },
  {
   "cell_type": "code",
   "execution_count": 137,
   "metadata": {},
   "outputs": [],
   "source": [
    "import re\n",
    "import nltk\n",
    "import string\n",
    "import gensim\n",
    "# nltk.download('stopwords')\n",
    "# nltk.download('wordnet')\n",
    "# nltk.download('omw-1.4')\n",
    "lemmatizer = nltk.stem.WordNetLemmatizer()\n",
    "stopwords = nltk.corpus.stopwords.words('english')\n",
    "\n",
    "def prepare_cleaned_text(text):\n",
    "    if pd.notna(text):\n",
    "        text = text.lower()\n",
    "        text = gensim.utils.simple_preprocess(text)\n",
    "        text = [lemmatizer.lemmatize(t) for t in text if t not in stopwords]\n",
    "    return text\n",
    "\n",
    "def preprocess_descriptive_cols(df):\n",
    "    df['summary'] = df.apply(lambda x:prepare_cleaned_text(x['summary']),axis=1)\n",
    "    df['neighborhood_overview'] = df.apply(lambda x:prepare_cleaned_text(x['neighborhood_overview']),axis=1)\n",
    "    df['space'] = df.apply(lambda x:prepare_cleaned_text(x['space']),axis=1)\n",
    "    df['name'] = df.apply(lambda x:prepare_cleaned_text(x['name']),axis=1)\n",
    "    df = df.drop(columns=['description'])\n",
    "    return df\n"
   ]
  },
  {
   "cell_type": "code",
   "execution_count": 152,
   "metadata": {},
   "outputs": [],
   "source": [
    "#### Combine all the text features\n",
    "\n",
    "def prepare_text_data(df):\n",
    "    df = encode_binary_var(df)\n",
    "    df = encode_categorical_var(df)\n",
    "    df = encode_other_var(df)\n",
    "    df = preprocess_descriptive_cols(df)\n",
    "    df = df.drop(columns=cols_to_remove)\n",
    "    return df"
   ]
  },
  {
   "cell_type": "markdown",
   "metadata": {},
   "source": [
    "### Fix Numerics"
   ]
  },
  {
   "cell_type": "code",
   "execution_count": 139,
   "metadata": {},
   "outputs": [
    {
     "name": "stdout",
     "output_type": "stream",
     "text": [
      "['host_total_listings_count', 'accommodates', 'bathrooms', 'bedrooms', 'beds', 'guests_included']\n"
     ]
    }
   ],
   "source": [
    "num_cols\n",
    "cols_to_drop = ['host_id','latitude','longitude']\n",
    "label_col = ['price']\n",
    "review_cols = [c for c in  num_cols if 'review' in c]\n",
    "remaining_cols = [c for c in num_cols if c not in cols_to_drop+label_col+review_cols]\n",
    "print(remaining_cols)"
   ]
  },
  {
   "cell_type": "code",
   "execution_count": 140,
   "metadata": {},
   "outputs": [
    {
     "data": {
      "text/html": [
       "<div>\n",
       "<style scoped>\n",
       "    .dataframe tbody tr th:only-of-type {\n",
       "        vertical-align: middle;\n",
       "    }\n",
       "\n",
       "    .dataframe tbody tr th {\n",
       "        vertical-align: top;\n",
       "    }\n",
       "\n",
       "    .dataframe thead th {\n",
       "        text-align: right;\n",
       "    }\n",
       "</style>\n",
       "<table border=\"1\" class=\"dataframe\">\n",
       "  <thead>\n",
       "    <tr style=\"text-align: right;\">\n",
       "      <th></th>\n",
       "      <th>review_scores_rating</th>\n",
       "      <th>review_scores_accuracy</th>\n",
       "      <th>review_scores_cleanliness</th>\n",
       "      <th>review_scores_checkin</th>\n",
       "      <th>review_scores_communication</th>\n",
       "      <th>review_scores_location</th>\n",
       "      <th>review_scores_value</th>\n",
       "      <th>reviews_per_month</th>\n",
       "    </tr>\n",
       "  </thead>\n",
       "  <tbody>\n",
       "    <tr>\n",
       "      <th>0</th>\n",
       "      <td>95.0</td>\n",
       "      <td>10.0</td>\n",
       "      <td>10.0</td>\n",
       "      <td>10.0</td>\n",
       "      <td>10.0</td>\n",
       "      <td>10.0</td>\n",
       "      <td>10.0</td>\n",
       "      <td>2.37</td>\n",
       "    </tr>\n",
       "    <tr>\n",
       "      <th>1</th>\n",
       "      <td>99.0</td>\n",
       "      <td>10.0</td>\n",
       "      <td>10.0</td>\n",
       "      <td>10.0</td>\n",
       "      <td>10.0</td>\n",
       "      <td>10.0</td>\n",
       "      <td>10.0</td>\n",
       "      <td>2.97</td>\n",
       "    </tr>\n",
       "    <tr>\n",
       "      <th>2</th>\n",
       "      <td>84.0</td>\n",
       "      <td>9.0</td>\n",
       "      <td>9.0</td>\n",
       "      <td>10.0</td>\n",
       "      <td>10.0</td>\n",
       "      <td>9.0</td>\n",
       "      <td>8.0</td>\n",
       "      <td>1.73</td>\n",
       "    </tr>\n",
       "    <tr>\n",
       "      <th>3</th>\n",
       "      <td>NaN</td>\n",
       "      <td>NaN</td>\n",
       "      <td>NaN</td>\n",
       "      <td>NaN</td>\n",
       "      <td>NaN</td>\n",
       "      <td>NaN</td>\n",
       "      <td>NaN</td>\n",
       "      <td>NaN</td>\n",
       "    </tr>\n",
       "    <tr>\n",
       "      <th>4</th>\n",
       "      <td>100.0</td>\n",
       "      <td>10.0</td>\n",
       "      <td>10.0</td>\n",
       "      <td>10.0</td>\n",
       "      <td>10.0</td>\n",
       "      <td>10.0</td>\n",
       "      <td>10.0</td>\n",
       "      <td>2.32</td>\n",
       "    </tr>\n",
       "    <tr>\n",
       "      <th>5</th>\n",
       "      <td>70.0</td>\n",
       "      <td>10.0</td>\n",
       "      <td>5.0</td>\n",
       "      <td>10.0</td>\n",
       "      <td>10.0</td>\n",
       "      <td>9.0</td>\n",
       "      <td>8.0</td>\n",
       "      <td>0.23</td>\n",
       "    </tr>\n",
       "    <tr>\n",
       "      <th>6</th>\n",
       "      <td>NaN</td>\n",
       "      <td>NaN</td>\n",
       "      <td>NaN</td>\n",
       "      <td>NaN</td>\n",
       "      <td>NaN</td>\n",
       "      <td>NaN</td>\n",
       "      <td>NaN</td>\n",
       "      <td>0.47</td>\n",
       "    </tr>\n",
       "    <tr>\n",
       "      <th>7</th>\n",
       "      <td>NaN</td>\n",
       "      <td>NaN</td>\n",
       "      <td>NaN</td>\n",
       "      <td>NaN</td>\n",
       "      <td>NaN</td>\n",
       "      <td>NaN</td>\n",
       "      <td>NaN</td>\n",
       "      <td>NaN</td>\n",
       "    </tr>\n",
       "    <tr>\n",
       "      <th>8</th>\n",
       "      <td>NaN</td>\n",
       "      <td>NaN</td>\n",
       "      <td>NaN</td>\n",
       "      <td>NaN</td>\n",
       "      <td>NaN</td>\n",
       "      <td>NaN</td>\n",
       "      <td>NaN</td>\n",
       "      <td>NaN</td>\n",
       "    </tr>\n",
       "    <tr>\n",
       "      <th>9</th>\n",
       "      <td>96.0</td>\n",
       "      <td>10.0</td>\n",
       "      <td>10.0</td>\n",
       "      <td>10.0</td>\n",
       "      <td>10.0</td>\n",
       "      <td>9.0</td>\n",
       "      <td>10.0</td>\n",
       "      <td>2.31</td>\n",
       "    </tr>\n",
       "  </tbody>\n",
       "</table>\n",
       "</div>"
      ],
      "text/plain": [
       "   review_scores_rating  review_scores_accuracy  review_scores_cleanliness  \\\n",
       "0                  95.0                    10.0                       10.0   \n",
       "1                  99.0                    10.0                       10.0   \n",
       "2                  84.0                     9.0                        9.0   \n",
       "3                   NaN                     NaN                        NaN   \n",
       "4                 100.0                    10.0                       10.0   \n",
       "5                  70.0                    10.0                        5.0   \n",
       "6                   NaN                     NaN                        NaN   \n",
       "7                   NaN                     NaN                        NaN   \n",
       "8                   NaN                     NaN                        NaN   \n",
       "9                  96.0                    10.0                       10.0   \n",
       "\n",
       "   review_scores_checkin  review_scores_communication  review_scores_location  \\\n",
       "0                   10.0                         10.0                    10.0   \n",
       "1                   10.0                         10.0                    10.0   \n",
       "2                   10.0                         10.0                     9.0   \n",
       "3                    NaN                          NaN                     NaN   \n",
       "4                   10.0                         10.0                    10.0   \n",
       "5                   10.0                         10.0                     9.0   \n",
       "6                    NaN                          NaN                     NaN   \n",
       "7                    NaN                          NaN                     NaN   \n",
       "8                    NaN                          NaN                     NaN   \n",
       "9                   10.0                         10.0                     9.0   \n",
       "\n",
       "   review_scores_value  reviews_per_month  \n",
       "0                 10.0               2.37  \n",
       "1                 10.0               2.97  \n",
       "2                  8.0               1.73  \n",
       "3                  NaN                NaN  \n",
       "4                 10.0               2.32  \n",
       "5                  8.0               0.23  \n",
       "6                  NaN               0.47  \n",
       "7                  NaN                NaN  \n",
       "8                  NaN                NaN  \n",
       "9                 10.0               2.31  "
      ]
     },
     "execution_count": 140,
     "metadata": {},
     "output_type": "execute_result"
    }
   ],
   "source": [
    "review_cols = [c for c in  num_cols if 'review' in c]\n",
    "train[[c for c in review_cols]].head(10)"
   ]
  },
  {
   "cell_type": "code",
   "execution_count": 141,
   "metadata": {},
   "outputs": [
    {
     "data": {
      "text/plain": [
       "host_total_listings_count    111\n",
       "accommodates                   0\n",
       "bathrooms                     70\n",
       "bedrooms                      62\n",
       "beds                         262\n",
       "guests_included                0\n",
       "dtype: int64"
      ]
     },
     "execution_count": 141,
     "metadata": {},
     "output_type": "execute_result"
    }
   ],
   "source": [
    "train[[c for c in remaining_cols]].isnull().sum()\n",
    "# train[[c for c in remaining_cols]].head(10)\n"
   ]
  },
  {
   "cell_type": "code",
   "execution_count": 142,
   "metadata": {},
   "outputs": [],
   "source": [
    "from statistics import mean, median, mode\n",
    "\n",
    "def preprocess_review_scores(df):\n",
    "    review_cols = [c for c in  num_cols if 'review' in c]\n",
    "    for c in review_cols:\n",
    "        if c == 'reviews_per_month':\n",
    "            imputed = mean(df[c].dropna().values)\n",
    "        else:\n",
    "            imputed = median(df[c].dropna().values)\n",
    "        df[c].fillna(imputed,inplace=True)\n",
    "    return df\n",
    "\n",
    "def prepare_numeric_data(df):\n",
    "    df.drop(columns=cols_to_drop,inplace=True)\n",
    "    df = preprocess_review_scores(df)\n",
    "    for c in remaining_cols:\n",
    "        df[c] = df[c].fillna(median(df[c].dropna()))\n",
    "    return df\n",
    "\n",
    "    \n"
   ]
  },
  {
   "cell_type": "code",
   "execution_count": 173,
   "metadata": {},
   "outputs": [],
   "source": [
    "feature_df = train.copy()\n",
    "test_df = test.copy()"
   ]
  },
  {
   "cell_type": "code",
   "execution_count": 174,
   "metadata": {},
   "outputs": [
    {
     "name": "stdout",
     "output_type": "stream",
     "text": [
      "55284\n",
      "29769\n"
     ]
    }
   ],
   "source": [
    "def preprocess(df):\n",
    "    df = prepare_numeric_data(df)\n",
    "    df = prepare_text_data(df)\n",
    "    df = df.drop(columns=['room_type','cancellation_policy'])\n",
    "    return df\n",
    "\n",
    "\n",
    "feature_df = preprocess(feature_df)\n",
    "feature_df['flag'] = 'train'\n",
    "test_df = preprocess(test_df)\n",
    "test_df['flag'] = 'test'\n"
   ]
  },
  {
   "cell_type": "code",
   "execution_count": 176,
   "metadata": {},
   "outputs": [],
   "source": [
    "data_df = pd.concat([feature_df,test_df])\n",
    "data_df.to_pickle('preprocess_data.pkl')"
   ]
  },
  {
   "cell_type": "code",
   "execution_count": null,
   "metadata": {},
   "outputs": [
    {
     "name": "stderr",
     "output_type": "stream",
     "text": [
      "C:\\Users\\rohan\\AppData\\Local\\Temp\\ipykernel_24756\\3934423970.py:2: SettingWithCopyWarning: \n",
      "A value is trying to be set on a copy of a slice from a DataFrame\n",
      "\n",
      "See the caveats in the documentation: https://pandas.pydata.org/pandas-docs/stable/user_guide/indexing.html#returning-a-view-versus-a-copy\n",
      "  test.host_is_superhost[test.host_is_superhost == \"t\"] = 1 #replacing \"t\" with 1\n",
      "C:\\Users\\rohan\\AppData\\Local\\Temp\\ipykernel_24756\\3934423970.py:3: SettingWithCopyWarning: \n",
      "A value is trying to be set on a copy of a slice from a DataFrame\n",
      "\n",
      "See the caveats in the documentation: https://pandas.pydata.org/pandas-docs/stable/user_guide/indexing.html#returning-a-view-versus-a-copy\n",
      "  test.host_is_superhost[test.host_is_superhost == \"f\"] = 0 #replacing \"f\" with 0\n",
      "C:\\Users\\rohan\\AppData\\Local\\Temp\\ipykernel_24756\\3934423970.py:6: SettingWithCopyWarning: \n",
      "A value is trying to be set on a copy of a slice from a DataFrame\n",
      "\n",
      "See the caveats in the documentation: https://pandas.pydata.org/pandas-docs/stable/user_guide/indexing.html#returning-a-view-versus-a-copy\n",
      "  test.host_has_profile_pic[test.host_has_profile_pic == \"t\"] = 1 #replacing \"t\" with 1\n",
      "C:\\Users\\rohan\\AppData\\Local\\Temp\\ipykernel_24756\\3934423970.py:7: SettingWithCopyWarning: \n",
      "A value is trying to be set on a copy of a slice from a DataFrame\n",
      "\n",
      "See the caveats in the documentation: https://pandas.pydata.org/pandas-docs/stable/user_guide/indexing.html#returning-a-view-versus-a-copy\n",
      "  test.host_has_profile_pic[test.host_has_profile_pic == \"f\"] = 0 #replacing \"f\" with 0\n",
      "C:\\Users\\rohan\\AppData\\Local\\Temp\\ipykernel_24756\\3934423970.py:11: SettingWithCopyWarning: \n",
      "A value is trying to be set on a copy of a slice from a DataFrame\n",
      "\n",
      "See the caveats in the documentation: https://pandas.pydata.org/pandas-docs/stable/user_guide/indexing.html#returning-a-view-versus-a-copy\n",
      "  test.host_identity_verified[test.host_identity_verified == \"t\"] = 1 #replacing \"t\" with 1\n",
      "C:\\Users\\rohan\\AppData\\Local\\Temp\\ipykernel_24756\\3934423970.py:12: SettingWithCopyWarning: \n",
      "A value is trying to be set on a copy of a slice from a DataFrame\n",
      "\n",
      "See the caveats in the documentation: https://pandas.pydata.org/pandas-docs/stable/user_guide/indexing.html#returning-a-view-versus-a-copy\n",
      "  test.host_identity_verified[test.host_identity_verified == \"f\"] = 0 #replacing \"f\" with 0\n"
     ]
    }
   ],
   "source": [
    "test['host_is_superhost'].fillna(0,inplace = True) #replacing NA with 0, assuming 0 is false value. \n",
    "test.host_is_superhost[test.host_is_superhost == \"t\"] = 1 #replacing \"t\" with 1\n",
    "test.host_is_superhost[test.host_is_superhost == \"f\"] = 0 #replacing \"f\" with 0\n",
    "test[\"host_is_superhost\"] = test[\"host_is_superhost\"].astype(\"int64\") #converting host_is_superhost to boolean datatype\n",
    "test['host_has_profile_pic'].fillna(0,inplace = True) #replacing NA with 0, assuming 0 is false value. \n",
    "test.host_has_profile_pic[test.host_has_profile_pic == \"t\"] = 1 #replacing \"t\" with 1\n",
    "test.host_has_profile_pic[test.host_has_profile_pic == \"f\"] = 0 #replacing \"f\" with 0\n",
    "test[\"host_has_profile_pic\"] = test[\"host_has_profile_pic\"].astype(\"int64\") #converting host_is_superhost to boolean datatype\n",
    "\n",
    "test['host_identity_verified'].fillna(0,inplace = True) #replacing NA with 0, assuming 0 is false value. \n",
    "test.host_identity_verified[test.host_identity_verified == \"t\"] = 1 #replacing \"t\" with 1\n",
    "test.host_identity_verified[test.host_identity_verified == \"f\"] = 0 #replacing \"f\" with 0\n",
    "test[\"host_identity_verified\"] = test[\"host_identity_verified\"].astype(\"int64\") #converting host_is_superhost to boolean datatyp\n",
    "test['host_total_listings_count'].fillna(test['host_total_listings_count'].mean(),inplace = True) #replacing NA with mean of 'host_total_listings_count']\n",
    "test['zipcode'].fillna('E1',inplace = True) #replacing NA with most frequently occuring zipcode \n",
    "test['bathrooms'].fillna(test['bathrooms'].mean(),inplace = True) #replacing NA with most frequently occuring zipcode \n",
    "test['bedrooms'].fillna(test['bedrooms'].mean(),inplace = True) #replacing NA with most frequently occuring zipcode \n",
    "test['beds'].fillna(test['beds'].mean(),inplace = True) #replacing NA with most frequently occuring zipcode \n",
    "\n",
    "test['review_scores_rating'].fillna(test['review_scores_rating'].mean(),inplace = True)\n",
    "test['review_scores_accuracy'].fillna(test['review_scores_accuracy'].mean(),inplace = True)\n",
    "test['review_scores_cleanliness'].fillna(test['review_scores_cleanliness'].mean(),inplace = True)\n",
    "test['review_scores_checkin'].fillna(test['review_scores_checkin'].mean(),inplace = True)\n",
    "test['review_scores_communication'].fillna(test['review_scores_communication'].mean(),inplace = True)\n",
    "test['review_scores_location'].fillna(test['review_scores_location'].mean(),inplace = True)\n",
    "test['review_scores_value'].fillna(test['review_scores_value'].mean(),inplace = True)\n",
    "test['reviews_per_month'].fillna(test['reviews_per_month'].mean(),inplace = True)\n",
    "\n",
    "test['summary'].fillna('empty',inplace = True)\n",
    "test[\"property_type\"] = test[\"property_type\"].astype(\"category\") \n",
    "test[\"room_type\"] = test[\"room_type\"].astype(\"category\") \n",
    "test[\"bed_type\"] = test[\"bed_type\"].astype(\"category\") \n",
    "test['host_response_time'].fillna(\"missing\",inplace = True)\n",
    "test[\"host_response_time\"] = test[\"host_response_time\"].astype(\"category\")\n",
    "\n"
   ]
  },
  {
   "cell_type": "markdown",
   "metadata": {},
   "source": []
  }
 ],
 "metadata": {
  "kernelspec": {
   "display_name": "Python 3.8.10 64-bit",
   "language": "python",
   "name": "python3"
  },
  "language_info": {
   "codemirror_mode": {
    "name": "ipython",
    "version": 3
   },
   "file_extension": ".py",
   "mimetype": "text/x-python",
   "name": "python",
   "nbconvert_exporter": "python",
   "pygments_lexer": "ipython3",
   "version": "3.8.10"
  },
  "orig_nbformat": 4,
  "vscode": {
   "interpreter": {
    "hash": "52634da84371cba311ea128a5ea7cdc41ff074b781779e754b270ff9f8153cee"
   }
  }
 },
 "nbformat": 4,
 "nbformat_minor": 2
}
