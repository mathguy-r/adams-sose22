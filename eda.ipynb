{
 "cells": [
  {
   "cell_type": "code",
   "execution_count": 1,
   "metadata": {},
   "outputs": [],
   "source": [
    "import pandas as pd \n",
    "\n",
    "train = pd.read_csv('train.csv')\n",
    "test = pd.read_csv('test.csv')\n",
    "reviews = pd.read_csv('reviews.csv')\n",
    "\n"
   ]
  },
  {
   "cell_type": "code",
   "execution_count": 2,
   "metadata": {},
   "outputs": [
    {
     "data": {
      "text/html": [
       "<div>\n",
       "<style scoped>\n",
       "    .dataframe tbody tr th:only-of-type {\n",
       "        vertical-align: middle;\n",
       "    }\n",
       "\n",
       "    .dataframe tbody tr th {\n",
       "        vertical-align: top;\n",
       "    }\n",
       "\n",
       "    .dataframe thead th {\n",
       "        text-align: right;\n",
       "    }\n",
       "</style>\n",
       "<table border=\"1\" class=\"dataframe\">\n",
       "  <thead>\n",
       "    <tr style=\"text-align: right;\">\n",
       "      <th></th>\n",
       "      <th>name</th>\n",
       "      <th>summary</th>\n",
       "      <th>space</th>\n",
       "      <th>description</th>\n",
       "      <th>experiences_offered</th>\n",
       "      <th>neighborhood_overview</th>\n",
       "      <th>transit</th>\n",
       "      <th>house_rules</th>\n",
       "      <th>picture_url</th>\n",
       "      <th>host_id</th>\n",
       "      <th>...</th>\n",
       "      <th>review_scores_rating</th>\n",
       "      <th>review_scores_accuracy</th>\n",
       "      <th>review_scores_cleanliness</th>\n",
       "      <th>review_scores_checkin</th>\n",
       "      <th>review_scores_communication</th>\n",
       "      <th>review_scores_location</th>\n",
       "      <th>review_scores_value</th>\n",
       "      <th>cancellation_policy</th>\n",
       "      <th>reviews_per_month</th>\n",
       "      <th>listing_id</th>\n",
       "    </tr>\n",
       "  </thead>\n",
       "  <tbody>\n",
       "    <tr>\n",
       "      <th>0</th>\n",
       "      <td>Attic Room in historic Greenwich</td>\n",
       "      <td>The room does not have a door but its own disc...</td>\n",
       "      <td>Double room available in historic royal Greenw...</td>\n",
       "      <td>The room does not have a door but its own disc...</td>\n",
       "      <td>business</td>\n",
       "      <td>NaN</td>\n",
       "      <td>Parking is restricted in London. Visitors park...</td>\n",
       "      <td>no shoes on carpets no food in attic room no o...</td>\n",
       "      <td>https://a0.muscache.com/im/pictures/20045164/7...</td>\n",
       "      <td>2167992</td>\n",
       "      <td>...</td>\n",
       "      <td>95.0</td>\n",
       "      <td>10.0</td>\n",
       "      <td>10.0</td>\n",
       "      <td>10.0</td>\n",
       "      <td>10.0</td>\n",
       "      <td>10.0</td>\n",
       "      <td>10.0</td>\n",
       "      <td>strict_14_with_grace_period</td>\n",
       "      <td>2.37</td>\n",
       "      <td>9Q1RD6H7IO</td>\n",
       "    </tr>\n",
       "    <tr>\n",
       "      <th>1</th>\n",
       "      <td>Lovely Garden Studio Private Access</td>\n",
       "      <td>Garden studio with private entrance, 5 minutes...</td>\n",
       "      <td>Beautiful studio with a king size bed, a sofa ...</td>\n",
       "      <td>Garden studio with private entrance, 5 minutes...</td>\n",
       "      <td>none</td>\n",
       "      <td>Crouch End is a very hip and friendly neighbou...</td>\n",
       "      <td>Walk across the street to the W3 bus stop and ...</td>\n",
       "      <td>We'd love it if you would remove your shoes at...</td>\n",
       "      <td>https://a0.muscache.com/im/pictures/8d1ddcdc-f...</td>\n",
       "      <td>16148175</td>\n",
       "      <td>...</td>\n",
       "      <td>99.0</td>\n",
       "      <td>10.0</td>\n",
       "      <td>10.0</td>\n",
       "      <td>10.0</td>\n",
       "      <td>10.0</td>\n",
       "      <td>10.0</td>\n",
       "      <td>10.0</td>\n",
       "      <td>moderate</td>\n",
       "      <td>2.97</td>\n",
       "      <td>6XDPZPGLSR</td>\n",
       "    </tr>\n",
       "  </tbody>\n",
       "</table>\n",
       "<p>2 rows × 42 columns</p>\n",
       "</div>"
      ],
      "text/plain": [
       "                                  name  \\\n",
       "0     Attic Room in historic Greenwich   \n",
       "1  Lovely Garden Studio Private Access   \n",
       "\n",
       "                                             summary  \\\n",
       "0  The room does not have a door but its own disc...   \n",
       "1  Garden studio with private entrance, 5 minutes...   \n",
       "\n",
       "                                               space  \\\n",
       "0  Double room available in historic royal Greenw...   \n",
       "1  Beautiful studio with a king size bed, a sofa ...   \n",
       "\n",
       "                                         description experiences_offered  \\\n",
       "0  The room does not have a door but its own disc...            business   \n",
       "1  Garden studio with private entrance, 5 minutes...                none   \n",
       "\n",
       "                               neighborhood_overview  \\\n",
       "0                                                NaN   \n",
       "1  Crouch End is a very hip and friendly neighbou...   \n",
       "\n",
       "                                             transit  \\\n",
       "0  Parking is restricted in London. Visitors park...   \n",
       "1  Walk across the street to the W3 bus stop and ...   \n",
       "\n",
       "                                         house_rules  \\\n",
       "0  no shoes on carpets no food in attic room no o...   \n",
       "1  We'd love it if you would remove your shoes at...   \n",
       "\n",
       "                                         picture_url   host_id  ...  \\\n",
       "0  https://a0.muscache.com/im/pictures/20045164/7...   2167992  ...   \n",
       "1  https://a0.muscache.com/im/pictures/8d1ddcdc-f...  16148175  ...   \n",
       "\n",
       "  review_scores_rating review_scores_accuracy review_scores_cleanliness  \\\n",
       "0                 95.0                   10.0                      10.0   \n",
       "1                 99.0                   10.0                      10.0   \n",
       "\n",
       "  review_scores_checkin  review_scores_communication review_scores_location  \\\n",
       "0                  10.0                         10.0                   10.0   \n",
       "1                  10.0                         10.0                   10.0   \n",
       "\n",
       "  review_scores_value          cancellation_policy reviews_per_month  \\\n",
       "0                10.0  strict_14_with_grace_period              2.37   \n",
       "1                10.0                     moderate              2.97   \n",
       "\n",
       "   listing_id  \n",
       "0  9Q1RD6H7IO  \n",
       "1  6XDPZPGLSR  \n",
       "\n",
       "[2 rows x 42 columns]"
      ]
     },
     "execution_count": 2,
     "metadata": {},
     "output_type": "execute_result"
    }
   ],
   "source": [
    "train.head(2)"
   ]
  },
  {
   "cell_type": "code",
   "execution_count": 3,
   "metadata": {},
   "outputs": [
    {
     "data": {
      "text/html": [
       "<div>\n",
       "<style scoped>\n",
       "    .dataframe tbody tr th:only-of-type {\n",
       "        vertical-align: middle;\n",
       "    }\n",
       "\n",
       "    .dataframe tbody tr th {\n",
       "        vertical-align: top;\n",
       "    }\n",
       "\n",
       "    .dataframe thead th {\n",
       "        text-align: right;\n",
       "    }\n",
       "</style>\n",
       "<table border=\"1\" class=\"dataframe\">\n",
       "  <thead>\n",
       "    <tr style=\"text-align: right;\">\n",
       "      <th></th>\n",
       "      <th>reviewer_id</th>\n",
       "      <th>comments</th>\n",
       "      <th>review_id</th>\n",
       "      <th>listing_id</th>\n",
       "    </tr>\n",
       "  </thead>\n",
       "  <tbody>\n",
       "    <tr>\n",
       "      <th>0</th>\n",
       "      <td>93896</td>\n",
       "      <td>The flat was bright, comfortable and clean and...</td>\n",
       "      <td>30672</td>\n",
       "      <td>8Z94Z3WMCO</td>\n",
       "    </tr>\n",
       "    <tr>\n",
       "      <th>1</th>\n",
       "      <td>97890</td>\n",
       "      <td>We stayed with Adriano and Valerio for a week ...</td>\n",
       "      <td>32236</td>\n",
       "      <td>8Z94Z3WMCO</td>\n",
       "    </tr>\n",
       "  </tbody>\n",
       "</table>\n",
       "</div>"
      ],
      "text/plain": [
       "   reviewer_id                                           comments  review_id  \\\n",
       "0        93896  The flat was bright, comfortable and clean and...      30672   \n",
       "1        97890  We stayed with Adriano and Valerio for a week ...      32236   \n",
       "\n",
       "   listing_id  \n",
       "0  8Z94Z3WMCO  \n",
       "1  8Z94Z3WMCO  "
      ]
     },
     "execution_count": 3,
     "metadata": {},
     "output_type": "execute_result"
    }
   ],
   "source": [
    "reviews.head(2)"
   ]
  },
  {
   "cell_type": "markdown",
   "metadata": {},
   "source": [
    "## EDA - feature engineering, text extraction"
   ]
  },
  {
   "cell_type": "code",
   "execution_count": 4,
   "metadata": {},
   "outputs": [
    {
     "name": "stdout",
     "output_type": "stream",
     "text": [
      "(55284, 42)\n",
      "<class 'pandas.core.frame.DataFrame'>\n",
      "RangeIndex: 55284 entries, 0 to 55283\n",
      "Data columns (total 42 columns):\n",
      " #   Column                       Non-Null Count  Dtype  \n",
      "---  ------                       --------------  -----  \n",
      " 0   name                         55270 non-null  object \n",
      " 1   summary                      52330 non-null  object \n",
      " 2   space                        38403 non-null  object \n",
      " 3   description                  53558 non-null  object \n",
      " 4   experiences_offered          55284 non-null  object \n",
      " 5   neighborhood_overview        35778 non-null  object \n",
      " 6   transit                      35477 non-null  object \n",
      " 7   house_rules                  31906 non-null  object \n",
      " 8   picture_url                  55284 non-null  object \n",
      " 9   host_id                      55284 non-null  int64  \n",
      " 10  host_since                   55173 non-null  object \n",
      " 11  host_response_time           37482 non-null  object \n",
      " 12  host_response_rate           37482 non-null  object \n",
      " 13  host_is_superhost            55173 non-null  object \n",
      " 14  host_total_listings_count    55173 non-null  float64\n",
      " 15  host_has_profile_pic         55173 non-null  object \n",
      " 16  host_identity_verified       55173 non-null  object \n",
      " 17  neighbourhood                55137 non-null  object \n",
      " 18  neighbourhood_cleansed       55284 non-null  object \n",
      " 19  zipcode                      54012 non-null  object \n",
      " 20  latitude                     55284 non-null  float64\n",
      " 21  longitude                    55284 non-null  float64\n",
      " 22  property_type                55284 non-null  object \n",
      " 23  room_type                    55284 non-null  object \n",
      " 24  accommodates                 55284 non-null  int64  \n",
      " 25  bathrooms                    55214 non-null  float64\n",
      " 26  bedrooms                     55222 non-null  float64\n",
      " 27  beds                         55022 non-null  float64\n",
      " 28  bed_type                     55284 non-null  object \n",
      " 29  amenities                    55284 non-null  object \n",
      " 30  price                        55284 non-null  float64\n",
      " 31  guests_included              55284 non-null  int64  \n",
      " 32  review_scores_rating         41869 non-null  float64\n",
      " 33  review_scores_accuracy       41836 non-null  float64\n",
      " 34  review_scores_cleanliness    41842 non-null  float64\n",
      " 35  review_scores_checkin        41801 non-null  float64\n",
      " 36  review_scores_communication  41838 non-null  float64\n",
      " 37  review_scores_location       41804 non-null  float64\n",
      " 38  review_scores_value          41804 non-null  float64\n",
      " 39  cancellation_policy          55284 non-null  object \n",
      " 40  reviews_per_month            42904 non-null  float64\n",
      " 41  listing_id                   55284 non-null  object \n",
      "dtypes: float64(15), int64(3), object(24)\n",
      "memory usage: 17.7+ MB\n",
      "None\n",
      "['host_id', 'host_total_listings_count', 'latitude', 'longitude', 'accommodates', 'bathrooms', 'bedrooms', 'beds', 'price', 'guests_included', 'review_scores_rating', 'review_scores_accuracy', 'review_scores_cleanliness', 'review_scores_checkin', 'review_scores_communication', 'review_scores_location', 'review_scores_value', 'reviews_per_month']\n",
      "['name', 'summary', 'space', 'description', 'experiences_offered', 'neighborhood_overview', 'transit', 'house_rules', 'picture_url', 'host_since', 'host_response_time', 'host_response_rate', 'host_is_superhost', 'host_has_profile_pic', 'host_identity_verified', 'neighbourhood', 'neighbourhood_cleansed', 'zipcode', 'property_type', 'room_type', 'bed_type', 'amenities', 'cancellation_policy', 'listing_id']\n"
     ]
    }
   ],
   "source": [
    "print(train.shape)\n",
    "print(train.info())\n",
    "\n",
    "num_cols = []\n",
    "text_cols = []\n",
    "\n",
    "for c in train.columns:\n",
    "    if train[c].dtypes in ['int64','float64']:\n",
    "        num_cols.append(c)\n",
    "    elif train[c].dtypes == 'O':\n",
    "        text_cols.append(c)\n",
    "    else:\n",
    "        pass\n",
    "print(num_cols)\n",
    "print(text_cols)"
   ]
  },
  {
   "cell_type": "code",
   "execution_count": 5,
   "metadata": {},
   "outputs": [],
   "source": [
    "descriptive_cols = ['name', 'summary', 'space', 'description','neighborhood_overview', 'transit', 'house_rules','neighbourhood', 'neighbourhood_cleansed']\n",
    "boolean_cols = ['host_is_superhost', 'host_has_profile_pic', 'host_identity_verified']\n",
    "categorical_cols = ['property_type', 'room_type', 'bed_type','experiences_offered','cancellation_policy']\n",
    "other_cols = ['picture_url','host_since', 'host_response_time', 'host_response_rate','amenities','zipcode','listing_id']\n",
    "\n",
    "assert len(text_cols) == len(descriptive_cols)+len(boolean_cols)+len(categorical_cols)+len(other_cols), f\"You missed {set(text_cols).difference(set(descriptive_cols+binary_cols+categorical_cols+other_cols))}\""
   ]
  },
  {
   "cell_type": "code",
   "execution_count": 6,
   "metadata": {},
   "outputs": [],
   "source": [
    "feature_df = train.copy()"
   ]
  },
  {
   "cell_type": "markdown",
   "metadata": {},
   "source": [
    "#### Treatment of boolean columns - aim is to convert them to integers"
   ]
  },
  {
   "cell_type": "code",
   "execution_count": 83,
   "metadata": {},
   "outputs": [
    {
     "name": "stdout",
     "output_type": "stream",
     "text": [
      "['t', 'f', nan]\n",
      "['t', 'f', nan]\n",
      "['f', 't', nan]\n"
     ]
    }
   ],
   "source": [
    "for c in boolean_cols:\n",
    "    print(train[c].unique().tolist())"
   ]
  },
  {
   "cell_type": "code",
   "execution_count": 84,
   "metadata": {},
   "outputs": [],
   "source": [
    "binary_dict = {'t':1,'f':0}\n",
    "\n",
    "def to_binary(df):\n",
    "    for c in boolean_cols:\n",
    "        df[c] = df[c].map(binary_dict)\n",
    "    return df"
   ]
  },
  {
   "cell_type": "markdown",
   "metadata": {},
   "source": [
    "#### Treatment of categorical columns - aim is to find an ordinal pattern\n"
   ]
  },
  {
   "cell_type": "code",
   "execution_count": 144,
   "metadata": {},
   "outputs": [
    {
     "name": "stdout",
     "output_type": "stream",
     "text": [
      "property_type : Townhouse,Guesthouse,Apartment,House,Condominium,Loft,Serviced apartment,Cabin,Other,Guest suite,Bed and breakfast,Cottage,Tiny house,Houseboat,Parking Space,Bungalow,Farm stay,Hotel,Camper/RV,Boutique hotel,Villa,Boat,Hostel,Yurt,Aparthotel,Hut,Earth house,Chalet,Plane,Barn,Treehouse,Island,Bus,Dome house,Windmill,Campsite,Tent,Lighthouse\n",
      "room_type : Private room,Entire home/apt,Shared room,Hotel room\n",
      "bed_type : Pull-out Sofa,Real Bed,Futon,Couch,Airbed\n",
      "experiences_offered : business,none,romantic,family,social\n",
      "cancellation_policy : strict_14_with_grace_period,moderate,flexible,super_strict_60,super_strict_30,strict,luxury_moderate,luxury_super_strict_95\n"
     ]
    }
   ],
   "source": [
    "for c in categorical_cols:\n",
    "    print(c+\" : \"+\",\".join(train[c].unique().tolist()))"
   ]
  },
  {
   "cell_type": "code",
   "execution_count": 18,
   "metadata": {},
   "outputs": [
    {
     "data": {
      "text/plain": [
       "- The lead guest will be required to sign an Occupation Agreement prior to arrival. This is for insurance purposes to say that the guests will look after the property and not smoke or have parties - Please note that the lead guest must be over 25 years old - Normal check in time is between 3pm and 9pm. Any time outside of this period may incur an additional fee - No pets, no parties or smoking, please                                                                                                                                                                                                                                                                                                                                                                                                                                                                                                                                                                                                                        210\n",
       "Rules: No Party Policy:  There is a strict 21 and over policy. Guests under the age of 21 must be accompanied by a responsible adult.  Please note that gatherings of persons over the number of registered guests are not allowed. Parties are not allowed in the apartments at any time and may result in the management requesting the offending party to vacate the premises without refund. Hen and stag parties are not permitted. Disposal of waste:   Waste/ Garbage will need to be taken out when checking out, there will be a £20 charge if this is left behind. If you are unsure where to dispose of the waste, please refer to your booking confirmation email.  Unauthorised use of additional items:  Use of housekeeping equipment/ extra bedding left in the storing cupboard is forbidden, any additional use which has not been pre authorised will be charged for extra bedding use is charged at £10 per set per night.  Fittings, Fixtures and Furnishing:  All furnishing must be returned back to the correct     168\n",
       "- Please treat the home as you would your own.  - Please respect the neighbours, and do not make significant noise or play loud music after 10pm.  - No parties - If guests lock themselves out of the property OR they do not place keys in the lockbox at checkout, a £50 fee will apply. If a guest loses a set of keys during their stay, an £80 fee will apply.                                                                                                                                                                                                                                                                                                                                                                                                                                                                                                                                                                                                                                                                        166\n",
       "- No shoes in the house                                                                                                                                                                                                                                                                                                                                                                                                                                                                                                                                                                                                                                                                                                                                                                                                                                                                                                                                                                                                                     162\n",
       "No shoes in the house                                                                                                                                                                                                                                                                                                                                                                                                                                                                                                                                                                                                                                                                                                                                                                                                                                                                                                                                                                                                                       132\n",
       "                                                                                                                                                                                                                                                                                                                                                                                                                                                                                                                                                                                                                                                                                                                                                                                                                                                                                                                                                                                                                                           ... \n",
       "No pets or kids - sorry! no smokers either                                                                                                                                                                                                                                                                                                                                                                                                                                                                                                                                                                                                                                                                                                                                                                                                                                                                                                                                                                                                    1\n",
       "Please kindly clean after yourself. Please throw away the kitchen bin bags when it’s full. Thanks in advance.                                                                                                                                                                                                                                                                                                                                                                                                                                                                                                                                                                                                                                                                                                                                                                                                                                                                                                                                 1\n",
       "If you wish to smoke, please smoke on the balcony, where an ashtray is provided. Please help yourself to tea and coffee, and to our herbs, spices and oils should you wish to cook. You're also welcome to use the fresh herbs growing on the balcony, if they're in season.                                                                                                                                                                                                                                                                                                                                                                                                                                                                                                                                                                                                                                                                                                                                                                  1\n",
       "Absolutely no smoking and please just respect my home.                                                                                                                                                                                                                                                                                                                                                                                                                                                                                                                                                                                                                                                                                                                                                                                                                                                                                                                                                                                        1\n",
       "Please do not enter the office or other bedrooms Smoking is only allowed outside No additional/unplanned guests Please do not disrupt our personal items Rude or threatening behaviour will never be tolerated This is our home so please treat it and us with respect!                                                                                                                                                                                                                                                                                                                                                                                                                                                                                                                                                                                                                                                                                                                                                                       1\n",
       "Name: house_rules, Length: 24790, dtype: int64"
      ]
     },
     "execution_count": 18,
     "metadata": {},
     "output_type": "execute_result"
    }
   ],
   "source": [
    "train.house_rules.value_counts()"
   ]
  },
  {
   "cell_type": "code",
   "execution_count": 14,
   "metadata": {},
   "outputs": [
    {
     "data": {
      "text/plain": [
       "55284"
      ]
     },
     "execution_count": 14,
     "metadata": {},
     "output_type": "execute_result"
    }
   ],
   "source": [
    "room_type_dict = {'Private room':2,'Entire home/apt':3,'Shared room':0,'Hotel room':1}\n",
    "bed_type_dict = {}"
   ]
  },
  {
   "cell_type": "markdown",
   "metadata": {},
   "source": [
    "#### Treatment of other columns - aim is to create meaningful features as many as possible"
   ]
  },
  {
   "cell_type": "code",
   "execution_count": 26,
   "metadata": {},
   "outputs": [
    {
     "name": "stdout",
     "output_type": "stream",
     "text": [
      "['within an hour' 'within a few hours' nan 'within a day'\n",
      " 'a few days or more']\n",
      "['100%' nan '90%' '70%' '86%' '89%' '95%' '99%' '94%' '96%' '0%' '71%'\n",
      " '80%' '98%' '75%' '93%' '97%' '92%' '83%' '91%' '67%' '40%' '82%' '79%'\n",
      " '55%' '88%' '50%' '81%' '57%' '56%' '47%' '60%' '85%' '84%' '43%' '29%'\n",
      " '74%' '73%' '20%' '87%' '44%' '78%' '38%' '33%' '30%' '25%' '63%' '69%'\n",
      " '54%' '58%' '64%' '68%' '46%' '72%' '31%' '65%' '10%' '23%' '41%' '77%'\n",
      " '17%' '13%' '61%' '76%' '62%' '14%' '11%' '22%' '27%' '42%']\n"
     ]
    }
   ],
   "source": [
    "### host related\n",
    "import re\n",
    "for c in ['host_response_time', 'host_response_rate']:\n",
    "    print(train[c].unique())\n",
    "\n",
    "# train.host_response_time.value_counts()\n",
    "host_response_time_dict = {['within a few hours' ,'within a day', 'a few days or more']:0,'within an hour':1}\n",
    "\n",
    "def encode_host_response_rate(df):\n",
    "    temp = []\n",
    "    for v in df.host_response_rate.tolist():\n",
    "        try:\n",
    "            num = re.search(r'\\d+',v).group(0)\n",
    "            if int(num)>=90:\n",
    "                temp.append(1)\n",
    "            else:\n",
    "                temp.append(0)\n",
    "        except:\n",
    "            temp.append(v)\n",
    "            pass\n",
    "    return temp\n"
   ]
  },
  {
   "cell_type": "code",
   "execution_count": 48,
   "metadata": {},
   "outputs": [],
   "source": [
    "### host_since\n",
    "\n",
    "import datetime\n",
    "\n",
    "def to_recency(df):\n",
    "    temp = []\n",
    "    for d in df.host_since.tolist():\n",
    "        try:\n",
    "            year = 2022 - datetime.datetime.strptime(d,'%Y-%m-%d').year\n",
    "            temp.append(year)\n",
    "        except:\n",
    "            temp.append(d)\n",
    "            pass\n",
    "    return temp\n",
    "\n"
   ]
  },
  {
   "cell_type": "code",
   "execution_count": 71,
   "metadata": {},
   "outputs": [],
   "source": [
    "### amenities\n",
    "from nltk.probability import FreqDist\n",
    "\n",
    "def has_top_five_amenities(df):\n",
    "    amenities = df['amenities'].tolist()\n",
    "    t = ','.join(t).replace('{','').replace('}','').replace('\"','')\n",
    "    top_five = [item for (item,_) in FreqDist(t.split(',')).most_common(5)]\n",
    "    temp = []\n",
    "    for v in amenities:\n",
    "        temp = v.replace('{','').replace('}','').replace('\"','').split(',')\n",
    "        temp.append(1 if all([x for x in top_five if x in temp]) else 0)\n",
    "    return temp\n"
   ]
  },
  {
   "cell_type": "markdown",
   "metadata": {},
   "source": [
    "##### Treatment of Descriptive Columns"
   ]
  },
  {
   "cell_type": "code",
   "execution_count": 75,
   "metadata": {},
   "outputs": [
    {
     "data": {
      "text/plain": [
       "['name',\n",
       " 'summary',\n",
       " 'space',\n",
       " 'description',\n",
       " 'experiences_offered',\n",
       " 'neighborhood_overview',\n",
       " 'transit',\n",
       " 'house_rules',\n",
       " 'neighbourhood',\n",
       " 'neighbourhood_cleansed',\n",
       " 'cancellation_policy']"
      ]
     },
     "execution_count": 75,
     "metadata": {},
     "output_type": "execute_result"
    }
   ],
   "source": [
    "list(descriptive_cols)"
   ]
  },
  {
   "cell_type": "code",
   "execution_count": null,
   "metadata": {},
   "outputs": [],
   "source": [
    "import numpy as np\n",
    "\n",
    "def is_transit_detailed(df):\n",
    "    len_checker = lambda x:len(x.split())\n",
    "    temp = []\n",
    "    for x in df.transit.tolist():\n",
    "        flag = 0\n",
    "        if pd.notnull(x) & (len_checker(x)>3):\n",
    "            flag = 1\n",
    "        temp.append(flag)\n",
    "    return temp\n",
    "\n"
   ]
  },
  {
   "cell_type": "code",
   "execution_count": 150,
   "metadata": {},
   "outputs": [
    {
     "data": {
      "text/plain": [
       "'Beautiful studio with a king size bed, a sofa & coffee table.  Little kitchen area, equipped with a toaster, kettle, fridge, and cups, bowls, cutlery plates & biscuits! Light, self-service breakfast provided. Nice lighting and art, and a place for your suitcase and to hang your clothes. Blackout curtains for peaceful sleep.'"
      ]
     },
     "execution_count": 150,
     "metadata": {},
     "output_type": "execute_result"
    }
   ],
   "source": [
    "train.space[1]"
   ]
  },
  {
   "cell_type": "code",
   "execution_count": 10,
   "metadata": {},
   "outputs": [
    {
     "name": "stdout",
     "output_type": "stream",
     "text": [
      "Garden studio with private entrance, 5 minutes from Crouch End & its many shops & restaurants. All modern amenities - free high speed wifi, FreeviewTV, High pressure shower, comfy King bed, toaster/kettle/fridge. Lots of room and very quiet! Beautiful studio with a king size bed, a sofa & coffee table.  Little kitchen area, equipped with a toaster, kettle, fridge, and cups, bowls, cutlery plates & biscuits! Light, self-service breakfast provided. Nice lighting and art, and a place for your suitcase and to hang your clothes. Blackout curtains for peaceful sleep. Once you have checked in to collect keys, you will have private access to your studio via a side entrance gate to our garden. We will be here to greet you and get you set up in your temporary home.  Happy to recommend local eateries and provide transport tips. Crouch End is a very hip and friendly neighbourhood.  It is filled with endless options for eating out and lots of lovely shops! Great Vietnamese restaurant Khoai Cafe, is\n"
     ]
    }
   ],
   "source": [
    "train.description[1]"
   ]
  },
  {
   "cell_type": "code",
   "execution_count": 126,
   "metadata": {},
   "outputs": [
    {
     "data": {
      "text/plain": [
       "'Garden studio with private entrance, 5 minutes from Crouch End & its many shops & restaurants. All modern amenities - free high speed wifi, FreeviewTV, High pressure shower, comfy King bed, toaster/kettle/fridge. Lots of room and very quiet!'"
      ]
     },
     "execution_count": 126,
     "metadata": {},
     "output_type": "execute_result"
    }
   ],
   "source": [
    "train.summary[1]"
   ]
  },
  {
   "cell_type": "code",
   "execution_count": 127,
   "metadata": {},
   "outputs": [
    {
     "data": {
      "text/plain": [
       "'Lovely Garden Studio Private Access'"
      ]
     },
     "execution_count": 127,
     "metadata": {},
     "output_type": "execute_result"
    }
   ],
   "source": [
    "train.name[1]"
   ]
  },
  {
   "cell_type": "code",
   "execution_count": 130,
   "metadata": {},
   "outputs": [
    {
     "data": {
      "text/plain": [
       "\"Crouch End is a very hip and friendly neighbourhood.  It is filled with endless options for eating out and lots of lovely shops! Great Vietnamese restaurant Khoai Cafe, is a favourite, as is Irvin (Italian & Scottish Tapas bar!) run by the former drummer of Lloyd Cole & the Commotions. New, amazing  ice cream shop La Gelatiera will have you licking your lips and coming back for more! - but you might have to queue! Nearby Priory Road (with a lovely leafy Park just 1 min walk away) The Crouch End Broadway and surrounding streets offer a good selection of shops, trendy cafés and restaurants to choose from. Banner’s is a particularly favoured American-style restaurant on Park Road, with a dimly lit dining area and cool choice of music. The King’s Head is a popular gastro pub with a downstairs comedy club, a popular choice with local residents. Owner's favourites: The Haberdashery is a lovely cafe on Middle Lane (5 min walk, reminiscent of NYC's Greenwich Village, which serves Italian-style\""
      ]
     },
     "execution_count": 130,
     "metadata": {},
     "output_type": "execute_result"
    }
   ],
   "source": [
    "train.neighborhood_overview[1]"
   ]
  },
  {
   "cell_type": "code",
   "execution_count": 7,
   "metadata": {},
   "outputs": [
    {
     "data": {
      "text/plain": [
       "403585"
      ]
     },
     "execution_count": 7,
     "metadata": {},
     "output_type": "execute_result"
    }
   ],
   "source": [
    "temp = ' '.join(train.description.dropna().tolist())\n",
    "len(temp.split('.'))"
   ]
  },
  {
   "cell_type": "code",
   "execution_count": 15,
   "metadata": {},
   "outputs": [
    {
     "data": {
      "text/plain": [
       "19506"
      ]
     },
     "execution_count": 15,
     "metadata": {},
     "output_type": "execute_result"
    }
   ],
   "source": [
    "train.neighborhood_overview.isnull().sum()"
   ]
  },
  {
   "cell_type": "code",
   "execution_count": 16,
   "metadata": {},
   "outputs": [
    {
     "data": {
      "text/html": [
       "<div>\n",
       "<style scoped>\n",
       "    .dataframe tbody tr th:only-of-type {\n",
       "        vertical-align: middle;\n",
       "    }\n",
       "\n",
       "    .dataframe tbody tr th {\n",
       "        vertical-align: top;\n",
       "    }\n",
       "\n",
       "    .dataframe thead th {\n",
       "        text-align: right;\n",
       "    }\n",
       "</style>\n",
       "<table border=\"1\" class=\"dataframe\">\n",
       "  <thead>\n",
       "    <tr style=\"text-align: right;\">\n",
       "      <th></th>\n",
       "      <th>name</th>\n",
       "      <th>summary</th>\n",
       "      <th>space</th>\n",
       "      <th>description</th>\n",
       "      <th>experiences_offered</th>\n",
       "      <th>neighborhood_overview</th>\n",
       "      <th>transit</th>\n",
       "      <th>house_rules</th>\n",
       "      <th>picture_url</th>\n",
       "      <th>host_id</th>\n",
       "      <th>...</th>\n",
       "      <th>review_scores_rating</th>\n",
       "      <th>review_scores_accuracy</th>\n",
       "      <th>review_scores_cleanliness</th>\n",
       "      <th>review_scores_checkin</th>\n",
       "      <th>review_scores_communication</th>\n",
       "      <th>review_scores_location</th>\n",
       "      <th>review_scores_value</th>\n",
       "      <th>cancellation_policy</th>\n",
       "      <th>reviews_per_month</th>\n",
       "      <th>listing_id</th>\n",
       "    </tr>\n",
       "  </thead>\n",
       "  <tbody>\n",
       "  </tbody>\n",
       "</table>\n",
       "<p>0 rows × 42 columns</p>\n",
       "</div>"
      ],
      "text/plain": [
       "Empty DataFrame\n",
       "Columns: [name, summary, space, description, experiences_offered, neighborhood_overview, transit, house_rules, picture_url, host_id, host_since, host_response_time, host_response_rate, host_is_superhost, host_total_listings_count, host_has_profile_pic, host_identity_verified, neighbourhood, neighbourhood_cleansed, zipcode, latitude, longitude, property_type, room_type, accommodates, bathrooms, bedrooms, beds, bed_type, amenities, price, guests_included, review_scores_rating, review_scores_accuracy, review_scores_cleanliness, review_scores_checkin, review_scores_communication, review_scores_location, review_scores_value, cancellation_policy, reviews_per_month, listing_id]\n",
       "Index: []\n",
       "\n",
       "[0 rows x 42 columns]"
      ]
     },
     "execution_count": 16,
     "metadata": {},
     "output_type": "execute_result"
    }
   ],
   "source": [
    "train[train.description=='']"
   ]
  },
  {
   "cell_type": "code",
   "execution_count": null,
   "metadata": {},
   "outputs": [],
   "source": []
  }
 ],
 "metadata": {
  "kernelspec": {
   "display_name": "Python 3.8.10 64-bit",
   "language": "python",
   "name": "python3"
  },
  "language_info": {
   "codemirror_mode": {
    "name": "ipython",
    "version": 3
   },
   "file_extension": ".py",
   "mimetype": "text/x-python",
   "name": "python",
   "nbconvert_exporter": "python",
   "pygments_lexer": "ipython3",
   "version": "3.8.10"
  },
  "orig_nbformat": 4,
  "vscode": {
   "interpreter": {
    "hash": "52634da84371cba311ea128a5ea7cdc41ff074b781779e754b270ff9f8153cee"
   }
  }
 },
 "nbformat": 4,
 "nbformat_minor": 2
}
