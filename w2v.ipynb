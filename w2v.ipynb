{
 "cells": [
  {
   "cell_type": "markdown",
   "metadata": {
    "id": "XyuoS1V_A74Q"
   },
   "source": [
    "[![Open In Colab](https://colab.research.google.com/assets/colab-badge.svg)](https://colab.research.google.com/github/Humboldt-WI/adams/blob/master/demos/nlp/word-2-vec.ipynb)"
   ]
  },
  {
   "cell_type": "markdown",
   "metadata": {
    "id": "skvR6YA3A74T"
   },
   "source": [
    "# Word Embeddings and Word-to-Vec (W2V)\n",
    "This demo notebook revisits the lecture on word embeddings and Google's word-to-vec algorithm. W2V, like backpropagation, is a very popular algorithm that enjoys much coverage in various blogs, youtube channels, etc. In case you appreciate some additional material to read-up on W2V, here here are some useful resources including,  \n",
    "- [the original W2V paper](https://proceedings.neurips.cc/paper/2013/file/9aa42b31882ec039965f3c4923ce901b-Paper.pdf)\n",
    "- the beautiful [\"Illustrated Word2vec\" by Jay Alammar](https://jalammar.github.io/illustrated-word2vec/)\n",
    "- the[W2V Tensorflow tutorial](https://www.tensorflow.org/tutorials/text/word2vec)\n",
    "\n",
    "Last but not least, our main textbook features excellent chapters on word embeddings, W2V, and related algorithms inlcuding GloVe and Fasttext. You can find those parts in [Section 14 of Dive into Deep Learning](http://d2l.ai/chapter_natural-language-processing-pretraining/index.html)\n",
    "\n",
    "Let's get started with our ADAMS demo."
   ]
  },
  {
   "cell_type": "markdown",
   "metadata": {
    "id": "GdTgrnLmA75V",
    "tags": []
   },
   "source": [
    "## Training word-to-vec embeddings\n",
    "When it comes to embeddings, the most common use case is to **download pre-trained embeddings** and employ these for some downstream tasks (with or without fine-tuning). The Keras *embedding layer* supports that use case very well, as we will see in a future demo on sentiment analysis. Since this demo aims at deepening our understanding of W2V, we focus on a different use case and demonstrate the training of **customer word embeddings** using our IMDB data. \n",
    "\n",
    "You could argue that the IMDB forum exhibits a specific type of speech or jargon, and that this justifies training word embeddings for this specific corpus. In practice, using pre-trained embeddings will almost surely give better results than training embeddings from zero. However, without going into too much detail of the pros and cons of pre-training your own embeddings versus employing pre-trained embeddings, perhaps with some finetuning, the point of this section is simply to showcase how you could train from scratch if you want to. To that end, we will use a library called `Gensim`. \n",
    "\n",
    "`Gensim` is a popular library for text processing. Although maybe even more geared toward topic modeling, it offers, among others, implementations of several algorithms to learn word embeddings including *W2V*, *GloVe*, and *Fasttext*. We demonstrate training W2V embeddings using our cleaned IMDB movie review data set. Before moving on, make sure to have installed `Gensim`. \n",
    "\n",
    "**Credits and disclaimers**: many of the examples you are going to see in this section have been inspired by this very nice [Kaggle post](https://www.kaggle.com/code/pierremegret/gensim-word2vec-tutorial/notebook)."
   ]
  },
  {
   "cell_type": "code",
   "execution_count": 98,
   "metadata": {
    "colab": {
     "base_uri": "https://localhost:8080/"
    },
    "executionInfo": {
     "elapsed": 2030,
     "status": "ok",
     "timestamp": 1649252392694,
     "user": {
      "displayName": "Georg B",
      "userId": "16990759077565939430"
     },
     "user_tz": -120
    },
    "id": "60p3_IyJXfnZ",
    "outputId": "5a96fca4-95b5-43c8-f4a8-a8f3925a50b7"
   },
   "outputs": [],
   "source": [
    "# Create a global variable to idicate whether the notebook is run in Colab\n",
    "import sys\n",
    "import numpy as np\n",
    "import pandas as pd\n",
    "\n",
    "IN_COLAB = 'google.colab' in sys.modules\n",
    "\n",
    "# Configure variables pointing to directories and stored files \n",
    "if IN_COLAB:\n",
    "    # Mount Google-Drive\n",
    "    from google.colab import drive\n",
    "    drive.mount('/content/drive')\n",
    "    DATA_DIR = '/content/drive/My Drive/'  # adjust to Google drive folder with the data if applicable\n",
    "else:\n",
    "    DATA_DIR = './' # adjust to the directory where data is stored on your machine (if running the notebook locally)\n",
    "\n",
    "sys.path.append(DATA_DIR)\n",
    "\n",
    "CLEAN_REVIEW = DATA_DIR + 'imdb_clean_full_v2.pkl'   # List with tokenized reviews after standard NLP preparation\n",
    "IMBD_EMBEDDINGS = DATA_DIR + 'w2v_imdb_full_d100_e500.model'"
   ]
  },
  {
   "cell_type": "markdown",
   "metadata": {},
   "source": [
    "### Recap W2V\n",
    "Let's quickly revisit the principles of W2V. Please consult the paper of [Mikolov et al. (2013)](https://proceedings.neurips.cc/paper/2013/file/9aa42b31882ec039965f3c4923ce901b-Paper.pdf) for a detailed description.\n",
    "\n",
    "W2V establishes a word's meaning by the words that frequently appear close-by (distributional semantics). More specifically, the context of a word consists of the words that appear next to it within a pre-defined window (let's say 5 words).\n",
    "\n",
    " - the quality of *air* in mainland China has been decreasing since..\n",
    " - doctors claim the *air* you breath defines the overall wellbeing...\n",
    " - the currents of hot *air* have been bursting from underground\n",
    " - the mountain *air* was crystal clean and filled with ..\n",
    " - in case of *air* supply shortages, the submarine will..\n",
    "\n",
    "Taking the word *air* as our **target word**, the words around *air*, called context words, define the **meaning** of the word *air* in W2V.\n",
    "\n",
    "![w2vprocess](w2v.jpg)\n",
    "<br>\n",
    "inspired by https://www.youtube.com/watch?v=BD8wPsr_DAI"
   ]
  },
  {
   "cell_type": "markdown",
   "metadata": {
    "id": "4rmnnwM3UwrE",
    "tags": []
   },
   "source": [
    "### Loading the data\n",
    "We load the data frame with the original and cleaned reviews. The original version does not matter for this session. We will delete them to save memory. "
   ]
  },
  {
   "cell_type": "code",
   "execution_count": 17,
   "metadata": {
    "colab": {
     "base_uri": "https://localhost:8080/"
    },
    "executionInfo": {
     "elapsed": 581,
     "status": "ok",
     "timestamp": 1649251541851,
     "user": {
      "displayName": "Georg B",
      "userId": "16990759077565939430"
     },
     "user_tz": -120
    },
    "id": "eP6mlAonUwrF",
    "outputId": "e8d45569-5eb4-4c76-b88c-8bc2a1641f85"
   },
   "outputs": [
    {
     "data": {
      "text/plain": [
       "name                            0.025324\n",
       "summary                         5.343318\n",
       "space                          30.535055\n",
       "description                     3.122061\n",
       "experiences_offered             0.000000\n",
       "neighborhood_overview          35.283265\n",
       "transit                        35.827726\n",
       "house_rules                    42.287099\n",
       "picture_url                     0.000000\n",
       "host_id                         0.000000\n",
       "host_since                      0.200781\n",
       "host_response_time             32.200998\n",
       "host_response_rate             32.200998\n",
       "host_is_superhost               0.200781\n",
       "host_total_listings_count       0.200781\n",
       "host_has_profile_pic            0.200781\n",
       "host_identity_verified          0.200781\n",
       "neighbourhood                   0.265900\n",
       "neighbourhood_cleansed          0.000000\n",
       "zipcode                         2.300847\n",
       "latitude                        0.000000\n",
       "longitude                       0.000000\n",
       "property_type                   0.000000\n",
       "room_type                       0.000000\n",
       "accommodates                    0.000000\n",
       "bathrooms                       0.126619\n",
       "bedrooms                        0.112148\n",
       "beds                            0.473917\n",
       "bed_type                        0.000000\n",
       "amenities                       0.000000\n",
       "price                           0.000000\n",
       "guests_included                 0.000000\n",
       "review_scores_rating           24.265610\n",
       "review_scores_accuracy         24.325302\n",
       "review_scores_cleanliness      24.314449\n",
       "review_scores_checkin          24.388612\n",
       "review_scores_communication    24.321684\n",
       "review_scores_location         24.383185\n",
       "review_scores_value            24.383185\n",
       "cancellation_policy             0.000000\n",
       "reviews_per_month              22.393459\n",
       "listing_id                      0.000000\n",
       "dtype: float64"
      ]
     },
     "execution_count": 17,
     "metadata": {},
     "output_type": "execute_result"
    }
   ],
   "source": [
    "%precision \n",
    "\n",
    "import pandas as pd \n",
    "# df = pd.read_csv('train.csv')\n",
    "\n",
    "\n",
    "df.isnull().sum()/len(df)*100"
   ]
  },
  {
   "cell_type": "code",
   "execution_count": 22,
   "metadata": {
    "colab": {
     "base_uri": "https://localhost:8080/",
     "height": 206
    },
    "executionInfo": {
     "elapsed": 231,
     "status": "ok",
     "timestamp": 1649251543101,
     "user": {
      "displayName": "Georg B",
      "userId": "16990759077565939430"
     },
     "user_tz": -120
    },
    "id": "r0FiXQGCUwrL",
    "outputId": "0be4e472-f42a-4999-cc9c-b41648d98a6f",
    "tags": []
   },
   "outputs": [
    {
     "data": {
      "text/html": [
       "<div>\n",
       "<style scoped>\n",
       "    .dataframe tbody tr th:only-of-type {\n",
       "        vertical-align: middle;\n",
       "    }\n",
       "\n",
       "    .dataframe tbody tr th {\n",
       "        vertical-align: top;\n",
       "    }\n",
       "\n",
       "    .dataframe thead th {\n",
       "        text-align: right;\n",
       "    }\n",
       "</style>\n",
       "<table border=\"1\" class=\"dataframe\">\n",
       "  <thead>\n",
       "    <tr style=\"text-align: right;\">\n",
       "      <th></th>\n",
       "      <th>name</th>\n",
       "      <th>summary</th>\n",
       "      <th>space</th>\n",
       "      <th>description</th>\n",
       "      <th>neighborhood_overview</th>\n",
       "      <th>transit</th>\n",
       "      <th>house_rules</th>\n",
       "    </tr>\n",
       "  </thead>\n",
       "  <tbody>\n",
       "    <tr>\n",
       "      <th>2</th>\n",
       "      <td>Comfi apartment 2 close to wimbledon tennis court</td>\n",
       "      <td>NaN</td>\n",
       "      <td>NaN</td>\n",
       "      <td>NaN</td>\n",
       "      <td>NaN</td>\n",
       "      <td>NaN</td>\n",
       "      <td>1- No party or event allowed. 2-No smoking ins...</td>\n",
       "    </tr>\n",
       "    <tr>\n",
       "      <th>8</th>\n",
       "      <td>Cosy room near Heathrow in Semi detached property</td>\n",
       "      <td>NaN</td>\n",
       "      <td>NaN</td>\n",
       "      <td>NaN</td>\n",
       "      <td>NaN</td>\n",
       "      <td>NaN</td>\n",
       "      <td>Guest should clean their dishes. Guest should ...</td>\n",
       "    </tr>\n",
       "    <tr>\n",
       "      <th>40</th>\n",
       "      <td>Big double room close to Stratford for 4 people</td>\n",
       "      <td>NaN</td>\n",
       "      <td>NaN</td>\n",
       "      <td>NaN</td>\n",
       "      <td>NaN</td>\n",
       "      <td>NaN</td>\n",
       "      <td>NaN</td>\n",
       "    </tr>\n",
       "    <tr>\n",
       "      <th>63</th>\n",
       "      <td>Cozy single room in North London</td>\n",
       "      <td>NaN</td>\n",
       "      <td>NaN</td>\n",
       "      <td>NaN</td>\n",
       "      <td>NaN</td>\n",
       "      <td>NaN</td>\n",
       "      <td>NaN</td>\n",
       "    </tr>\n",
       "    <tr>\n",
       "      <th>104</th>\n",
       "      <td>Double bedroom close to station</td>\n",
       "      <td>NaN</td>\n",
       "      <td>NaN</td>\n",
       "      <td>NaN</td>\n",
       "      <td>NaN</td>\n",
       "      <td>NaN</td>\n",
       "      <td>Guest sandals provided - to wear whilst inside...</td>\n",
       "    </tr>\n",
       "  </tbody>\n",
       "</table>\n",
       "</div>"
      ],
      "text/plain": [
       "                                                  name summary space  \\\n",
       "2    Comfi apartment 2 close to wimbledon tennis court     NaN   NaN   \n",
       "8    Cosy room near Heathrow in Semi detached property     NaN   NaN   \n",
       "40     Big double room close to Stratford for 4 people     NaN   NaN   \n",
       "63                    Cozy single room in North London     NaN   NaN   \n",
       "104                    Double bedroom close to station     NaN   NaN   \n",
       "\n",
       "    description neighborhood_overview transit  \\\n",
       "2           NaN                   NaN     NaN   \n",
       "8           NaN                   NaN     NaN   \n",
       "40          NaN                   NaN     NaN   \n",
       "63          NaN                   NaN     NaN   \n",
       "104         NaN                   NaN     NaN   \n",
       "\n",
       "                                           house_rules  \n",
       "2    1- No party or event allowed. 2-No smoking ins...  \n",
       "8    Guest should clean their dishes. Guest should ...  \n",
       "40                                                 NaN  \n",
       "63                                                 NaN  \n",
       "104  Guest sandals provided - to wear whilst inside...  "
      ]
     },
     "execution_count": 22,
     "metadata": {},
     "output_type": "execute_result"
    }
   ],
   "source": [
    "text_cols = ['name', 'summary', 'space', 'description','neighborhood_overview', 'transit', 'house_rules']\n",
    "text_df = df[[c for c in text_cols]]\n",
    "text_df.loc[(df.description.isnull()),:].head(5)"
   ]
  },
  {
   "cell_type": "code",
   "execution_count": 162,
   "metadata": {},
   "outputs": [
    {
     "name": "stdout",
     "output_type": "stream",
     "text": [
      "[' great space for relaxing', 'always wanted to spend a few days like a real west londoner', ' and on the first floor a kitchen which you will all have full access to', ' traditional victorian house with modern facilities and everything you need for a comfortable stay', ' for foodies, just a stroll away, \"l\\'oculto\" tapas and wine shop on brockley road is a good spot']\n",
      "404816\n"
     ]
    }
   ],
   "source": [
    "## create corpus\n",
    "\n",
    "import re\n",
    "\n",
    "corpus_raw = text_df.description.dropna().tolist() + text_df.neighborhood_overview.dropna().tolist()\n",
    "corpus =[]\n",
    "for x in corpus_raw:\n",
    "    temp = re.split(r'[.?!]',x.lower())\n",
    "    temp = [x for x in temp if len(x.strip())>1]\n",
    "    corpus.extend(temp[:-1])\n",
    "    \n",
    "corpus = list(set(corpus))\n",
    "\n",
    "print(corpus[:5])\n",
    "\n",
    "print(len(corpus))\n"
   ]
  },
  {
   "cell_type": "code",
   "execution_count": 145,
   "metadata": {},
   "outputs": [],
   "source": [
    "# corpus_temp = '\\n'.join(corpus)\n",
    "import pickle\n",
    "\n",
    "with open('corpus.pkl','wb') as f:\n",
    "    pickle.dump(corpus, f)"
   ]
  },
  {
   "cell_type": "markdown",
   "metadata": {
    "id": "liLqBv7CA75V"
   },
   "source": [
    "### The Gensim W2V model\n",
    "Training word embeddings using `Gensim` is very easy and just a matter of calling a function. Well, the reason it takes so little code is that we have already cleaned our data and have it available as an array of texts; that is a format that `Gensim`supports. However, note that, depending on your data, the code may take quite a while to run. Again, word embeddings trained on the full 50K data set for 500 epochs are available in our course folder.\n",
    "\n",
    "Gensim is build for scalability. Would we use a large corpus, it were not be practical to first load all data from disk into your computer's main memory, to then process the data document by document using Gensim. Instead, it would be much more scalable to stream the data from disk. Long story short, we need a bit of infrastructure to input our review data set, which, for simplicity, we keep in a data frame, in a way that complies with what Gensim expects.  into. To that end, we build a little helper class that facilitates streaming reviews from our data frame. It would be easy to extend the helper class so as to facilitate streaming reviews from disk, or support both options. The [Gensim documentation](https://radimrehurek.com/gensim/auto_examples/tutorials/run_word2vec.html#training-your-own-model) provides an example."
   ]
  },
  {
   "cell_type": "markdown",
   "metadata": {},
   "source": [
    "And here is the simple call to the function `Word2Vec` that trains our custom word embeddings."
   ]
  },
  {
   "cell_type": "code",
   "execution_count": 157,
   "metadata": {},
   "outputs": [
    {
     "data": {
      "text/plain": [
       "445366"
      ]
     },
     "execution_count": 157,
     "metadata": {},
     "output_type": "execute_result"
    }
   ],
   "source": [
    "sentences = [utils.simple_preprocess(x) for x in corpus]\n",
    "len(sentences)\n"
   ]
  },
  {
   "cell_type": "markdown",
   "metadata": {},
   "source": [
    "Make sure to check out the docstring of the `Word2Vec` function to discover how word vectors are trained by default. Importantly, the argument `sg` let's you chose between *skip-gram* and *cbow*. Other concepts we discussed in the lecture include accelerating computations using *hierarchical softmax* and *negative sampling*. Gensim features these through its arguments `hs` and `negative`, respectively. Obviously, tons of other functionality is available, so make sure to study the [documentation](https://radimrehurek.com/gensim/models/word2vec.html?highlight=word2vec) if you plan to use the Gensim library for serious projects. Also, just to remind you, the [Kaggle post](https://www.kaggle.com/code/pierremegret/gensim-word2vec-tutorial/notebook), which inspired this notebook, has a slightly more elaborate demo of how to set up training and, specifically, how you can break down the individual steps of W2V training into smaller pieces."
   ]
  },
  {
   "cell_type": "markdown",
   "metadata": {},
   "source": [
    "The trained word vectors are accessible through the field `wv` of the model class."
   ]
  },
  {
   "cell_type": "code",
   "execution_count": 158,
   "metadata": {},
   "outputs": [
    {
     "data": {
      "text/plain": [
       "<gensim.interfaces.TransformedCorpus at 0x22c8503e820>"
      ]
     },
     "execution_count": 158,
     "metadata": {},
     "output_type": "execute_result"
    }
   ],
   "source": [
    "from gensim import utils\n",
    "from gensim.models.phrases import Phrases,Phraser\n",
    "\n",
    "sent = [utils.simple_preprocess(x) for x in corpus]\n",
    "print(len(sent))\n",
    "\n",
    "phrases = Phrases(sent, min_count=30, progress_per=10000)\n",
    "bigram = Phraser(phrases)\n",
    "sentences = bigram[sent]\n",
    "\n",
    "for i, s in enumerate(sentences):\n",
    "    print(s)\n",
    "    if i>5:\n",
    "        break"
   ]
  },
  {
   "cell_type": "code",
   "execution_count": 161,
   "metadata": {},
   "outputs": [
    {
     "data": {
      "text/plain": [
       "445366"
      ]
     },
     "execution_count": 161,
     "metadata": {},
     "output_type": "execute_result"
    }
   ],
   "source": [
    "from gensim.models.callbacks import CallbackAny2Vec\n",
    "\n",
    "\n",
    "class CleanReviews:\n",
    "    \"\"\"An iterator that yields sentences (lists of str).\"\"\"\n",
    "    \n",
    "    def __init__(self, reviews):\n",
    "        self.reviews = reviews\n",
    "        \n",
    "    def __iter__(self):\n",
    "        for line in self.reviews:\n",
    "            yield utils.simple_preprocess(line)\n",
    "            \n",
    "\n",
    "            \n",
    "class LossCallback(CallbackAny2Vec):\n",
    "    '''Callback to print loss after each epoch.'''\n",
    "\n",
    "    def __init__(self):\n",
    "        self.epoch = 0\n",
    "\n",
    "    def on_epoch_end(self, model):\n",
    "        loss = model.get_latest_training_loss()\n",
    "        print('Loss after epoch {}: {}'.format(self.epoch, loss))\n",
    "        self.epoch += 1"
   ]
  },
  {
   "cell_type": "code",
   "execution_count": 160,
   "metadata": {},
   "outputs": [
    {
     "name": "stdout",
     "output_type": "stream",
     "text": [
      "['great', 'space', 'for', 'relaxing']\n",
      "['always', 'wanted', 'to', 'spend', 'few', 'days', 'like', 'real', 'west', 'londoner']\n",
      "['and', 'on', 'the', 'first_floor', 'kitchen', 'which', 'you', 'will', 'all', 'have', 'full', 'access', 'to']\n",
      "['traditional', 'victorian', 'house', 'with', 'modern', 'facilities', 'and', 'everything', 'you', 'need', 'for', 'comfortable', 'stay']\n",
      "['for', 'foodies', 'just', 'stroll', 'away', 'oculto', 'tapas', 'and', 'wine', 'shop', 'on', 'brockley', 'road', 'is', 'good', 'spot']\n",
      "['my', 'flat', 'is', 'extremely', 'well', 'located', 'for', 'all', 'the', 'amenities', 'of', 'parsons_green']\n",
      "['upon_arrival', 'receive', 'the', 'house', 'manual', 'with', 'the', 'latest', 'art', 'shows', 'galleries', 'gigs']\n",
      "['the', 'neighbourhood', 'has', 'two', 'sides']\n",
      "['we', 'have', 'high_ceilings', 'large', 'windows', 'double_glazed', 'windows', 'comfortable', 'beds', 'and', 'fully_equipped', 'kitchen']\n",
      "['it', 'lovely', 'village', 'with', 'easy', 'rail', 'access', 'to', 'central', 'london']\n",
      "['mile_end', 'underground', 'station', 'minute_walk']\n",
      "['rooms', 'double', 'twin', 'to', 'book', 'separately']\n"
     ]
    }
   ],
   "source": [
    "# CAUTION: Running the code might take a while\n",
    "from gensim.models.word2vec import Word2Vec    \n",
    "\n",
    "emb_dim = 100  # embedding dimension, we use 10 for a quick demo of the code\n",
    "reviews = CleanReviews(corpus)\n",
    "\n",
    "# Train a Word2Vec model\n",
    "model = Word2Vec(\n",
    "    sentences=sentences,\n",
    "    min_count=10,\n",
    "    window=3, \n",
    "    sg=1,\n",
    "    sample=1e-4,\n",
    "    negative=10,\n",
    "    epochs=20,\n",
    "    vector_size=emb_dim,\n",
    "    compute_loss=False,\n",
    "    callbacks=[LossCallback()],\n",
    "    batch_words=1000,\n",
    "    workers=-1)    \n"
   ]
  },
  {
   "cell_type": "code",
   "execution_count": null,
   "metadata": {},
   "outputs": [],
   "source": [
    "print(model.wv.similarity('good', 'bad'))\n",
    "print(model.wv.similarity('bed', 'great'))\n",
    "print(len(model.wv.key_to_index))\n",
    "print(model.wv.most_similar(positive=['room']))\n"
   ]
  },
  {
   "cell_type": "code",
   "execution_count": null,
   "metadata": {},
   "outputs": [],
   "source": [
    "file=\"w2v_tmp.model\"\n",
    "save_as_bin = False\n",
    "model.wv.save_word2vec_format(file, binary=save_as_bin)  # set binary to True to save disk space; false facilitates inspecting the embeddings in a text editor"
   ]
  },
  {
   "cell_type": "code",
   "execution_count": null,
   "metadata": {},
   "outputs": [],
   "source": [
    "frozen_model = phrases.freeze()\n",
    "frozen_model.save(\"./bigram_model.pkl\")\n",
    "model_reloaded = Phrases.load(\"./bigram_model.pkl\")"
   ]
  },
  {
   "cell_type": "code",
   "execution_count": null,
   "metadata": {},
   "outputs": [],
   "source": [
    "len(model.wv.key_to_index)  # how many word vectors have been trained\n",
    "# model.wv.key_to_index"
   ]
  },
  {
   "cell_type": "markdown",
   "metadata": {},
   "source": [
    "We continue with playing with word vectors shortly but let us first discuss input and output handling with Gensim."
   ]
  },
  {
   "cell_type": "markdown",
   "metadata": {
    "id": "dKjhdPPAA75X"
   },
   "source": [
    "### Input / output handling\n",
    "Gensim supports saving and loading of trained embeddings in different versions. This makes a lot of sense since training can take a long time. For example, you could train for a couple of epochs, then store your results on disk, and then continue training. Here is how we can store our trained word vectors."
   ]
  },
  {
   "cell_type": "markdown",
   "metadata": {
    "id": "dKjhdPPAA75X"
   },
   "source": [
    "For Adams, you can obtain word vectors trained on the IMDB corpus for 500 epochs from our [GitHub repository](https://github.com/Humboldt-WI/adams/tree/master/demos/nlp). These vectors are far from comparable to real pre-trained W2V embeddings. On the other hand, their training took a couple of hours so the vectors should carry a bit more information compared to just running the above training code with a small embedding dimension of ten and training for only five epochs. Let's showcase how we can save and load word vectors."
   ]
  },
  {
   "cell_type": "code",
   "execution_count": 58,
   "metadata": {
    "id": "eD7dCexjA75Z"
   },
   "outputs": [],
   "source": [
    "# Load model from disk\n",
    "from gensim.models import KeyedVectors\n",
    "w2v = KeyedVectors.load_word2vec_format(IMBD_EMBEDDINGS, binary=False)"
   ]
  },
  {
   "cell_type": "markdown",
   "metadata": {},
   "source": [
    "Remember that you can also access the `KeyedVectors`, which we load with the previous statement, directly from a trained model object via the field `wv`. Thus, if you would like to run the following demos with the word vectors you trained yourself, simply run the following command. One would expect that the demos give nicer results with the pre-trained embeddings from your repo but you are welcoem to try this our yourself. "
   ]
  },
  {
   "cell_type": "code",
   "execution_count": 65,
   "metadata": {},
   "outputs": [],
   "source": [
    "# w2v = model.wv  # continue with the W2V embeddings trained above "
   ]
  },
  {
   "cell_type": "markdown",
   "metadata": {
    "id": "ZYt70SnBA75Z",
    "tags": []
   },
   "source": [
    "### Playing with embeddings\n",
    "Again, the embeddings loaded above are far from solid but should give us some somewhat meaningful results in algebraic comparisons. Let's see whether this works out. \n",
    "\n",
    "#### Which word is most similar to another word?"
   ]
  },
  {
   "cell_type": "code",
   "execution_count": 60,
   "metadata": {
    "colab": {
     "base_uri": "https://localhost:8080/"
    },
    "id": "lewhU1G7A75a",
    "outputId": "ab90e32d-b95e-4f35-ef74-3b7ff671729b"
   },
   "outputs": [
    {
     "data": {
      "text/plain": [
       "[('least', 0.9374186396598816),\n",
       " ('probably', 0.9304987192153931),\n",
       " ('still', 0.9181867837905884),\n",
       " ('ever', 0.9113300442695618),\n",
       " ('definitely', 0.9088698625564575),\n",
       " ('even', 0.9075060486793518),\n",
       " ('honestly', 0.9061371088027954),\n",
       " ('lately', 0.8953308463096619),\n",
       " ('actually', 0.8867319226264954),\n",
       " ('watch', 0.8728312253952026)]"
      ]
     },
     "execution_count": 60,
     "metadata": {},
     "output_type": "execute_result"
    }
   ],
   "source": [
    "w2v.most_similar(positive=['movie'])"
   ]
  },
  {
   "cell_type": "markdown",
   "metadata": {
    "id": "7v4DJ1egA75b"
   },
   "source": [
    "#### How similar are two words?"
   ]
  },
  {
   "cell_type": "code",
   "execution_count": 61,
   "metadata": {
    "colab": {
     "base_uri": "https://localhost:8080/"
    },
    "id": "P22xPLE5A75c",
    "outputId": "ed2f54db-b147-4e8d-9036-aee3b1c3e5c2"
   },
   "outputs": [
    {
     "data": {
      "text/plain": [
       "0.86766267"
      ]
     },
     "execution_count": 61,
     "metadata": {},
     "output_type": "execute_result"
    }
   ],
   "source": [
    "w2v.similarity('good', 'great')"
   ]
  },
  {
   "cell_type": "code",
   "execution_count": 62,
   "metadata": {
    "colab": {
     "base_uri": "https://localhost:8080/"
    },
    "id": "z5pxaVl8A75c",
    "outputId": "3775a2eb-3a1b-47ad-b06b-091fe28615a1"
   },
   "outputs": [
    {
     "name": "stdout",
     "output_type": "stream",
     "text": [
      "How similar is Tarantino to Spielberg: 0.8217860460281372\n",
      "How similar is Lucas to Spielberg: 0.7440744042396545\n",
      "How similar is Paltrow to Bullock: 0.7634718418121338\n",
      "How similar is Paltrow to Alba: 0.8613905310630798\n",
      "How similar is Cruise to Depp: 0.5666610598564148\n",
      "How similar is Cruise to Willis: 0.6183159947395325\n"
     ]
    }
   ],
   "source": [
    "print('How similar is Tarantino to Spielberg: {}'.format(w2v.similarity('tarantino', 'spielberg')))\n",
    "print('How similar is Lucas to Spielberg: {}'.format(w2v.similarity('lucas', 'spielberg')))\n",
    "\n",
    "print('How similar is Paltrow to Bullock: {}'.format(w2v.similarity('paltrow', 'bullock')))\n",
    "print('How similar is Paltrow to Alba: {}'.format(w2v.similarity('paltrow', 'alba')))\n",
    "\n",
    "print('How similar is Cruise to Depp: {}'.format(w2v.similarity('cruise', 'depp')))\n",
    "print('How similar is Cruise to Willis: {}'.format(w2v.similarity('cruise', 'willis')))\n"
   ]
  },
  {
   "cell_type": "markdown",
   "metadata": {
    "id": "Nxlk22MJA75d"
   },
   "source": [
    "#### Which word does not fit in?"
   ]
  },
  {
   "cell_type": "code",
   "execution_count": 63,
   "metadata": {
    "colab": {
     "base_uri": "https://localhost:8080/",
     "height": 93
    },
    "id": "JPYGN35DA75d",
    "outputId": "b974bffc-2b12-4523-fba7-2567de668023"
   },
   "outputs": [
    {
     "name": "stdout",
     "output_type": "stream",
     "text": [
      "weak\n",
      "good\n"
     ]
    }
   ],
   "source": [
    "print(w2v.doesnt_match(['cool', 'great', 'lovely', 'weak']))\n",
    "print(w2v.doesnt_match(['movie', 'film', 'good']))"
   ]
  },
  {
   "cell_type": "markdown",
   "metadata": {
    "id": "htZvGR4YA75e"
   },
   "source": [
    "#### A is to B as C is to ? "
   ]
  },
  {
   "cell_type": "code",
   "execution_count": 64,
   "metadata": {
    "colab": {
     "base_uri": "https://localhost:8080/"
    },
    "id": "h-DTdgxNA75e",
    "outputId": "6621430d-aafd-42a6-c198-51eabc845099"
   },
   "outputs": [
    {
     "data": {
      "text/plain": [
       "[('deserves', 0.9519431591033936),\n",
       " ('deserve', 0.8851733803749084),\n",
       " ('thanks', 0.8781426548957825),\n",
       " ('surpass', 0.867881178855896),\n",
       " ('qualify', 0.8677225708961487)]"
      ]
     },
     "execution_count": 64,
     "metadata": {},
     "output_type": "execute_result"
    }
   ],
   "source": [
    "w2v.most_similar(positive=['spielberg', 'woman'], negative=['man'], topn=5)"
   ]
  },
  {
   "cell_type": "markdown",
   "metadata": {
    "id": "QeiOWgJkA75h"
   },
   "source": [
    "### Phrase detection\n",
    "W2V trains one embedding per word. The model is agnostic of common phrases such as 'New York'. It would train one embedding for new and another for york, provided both words are part of the vocabulary. You can get better embeddings by adding common phrases to the vocabulary. W2V will then train individual embeddings for these phrases. Gensims also comes with a phrase detection models, which allows you to handle bigrams, trigrams and the like. We will not retrain our W2V model but sketch how you can use Gensim to get these common phrases. You could then consider to add (some of) them to your vocab and enhance the model.  "
   ]
  },
  {
   "cell_type": "code",
   "execution_count": 30,
   "metadata": {
    "id": "JgFV1l0SA75h"
   },
   "outputs": [],
   "source": [
    "from gensim.models.phrases import Phrases, ENGLISH_CONNECTOR_WORDS\n",
    "# Train a bigram model\n",
    "bigram_model = Phrases(sentences=reviews,min_count=10 , threshold=1, connector_words=ENGLISH_CONNECTOR_WORDS) "
   ]
  },
  {
   "cell_type": "markdown",
   "metadata": {
    "id": "EdmEVqvdA75h"
   },
   "source": [
    "After training, we can take text and put it through the bigram model. The model will then alter the text so as to introduce bigrams. Here is an example,"
   ]
  },
  {
   "cell_type": "code",
   "execution_count": 38,
   "metadata": {
    "colab": {
     "base_uri": "https://localhost:8080/"
    },
    "id": "AzZUbniKA75h",
    "outputId": "0edab39a-866b-4f3a-fcd0-5968295d2bb4"
   },
   "outputs": [
    {
     "data": {
      "text/plain": [
       "['I', 'like', 'this', 'movie']"
      ]
     },
     "execution_count": 38,
     "metadata": {},
     "output_type": "execute_result"
    }
   ],
   "source": [
    "# to process text and replace phrases, we use our phrase detector as follows\n",
    "bigram_model['I', 'like', 'this', 'movie']  # no phrases to be detected here"
   ]
  },
  {
   "cell_type": "code",
   "execution_count": 45,
   "metadata": {
    "colab": {
     "base_uri": "https://localhost:8080/"
    },
    "id": "AzZUbniKA75h",
    "outputId": "0edab39a-866b-4f3a-fcd0-5968295d2bb4"
   },
   "outputs": [
    {
     "data": {
      "text/plain": [
       "['sex', 'and', 'the', 'city', 'is', 'all', 'about', 'new_york']"
      ]
     },
     "execution_count": 45,
     "metadata": {},
     "output_type": "execute_result"
    }
   ],
   "source": [
    "bigram_model['sex', 'and', 'the', 'city', 'is', 'all', 'about', 'new', 'york']  # but we would expect city names to be detected"
   ]
  },
  {
   "cell_type": "markdown",
   "metadata": {
    "id": "wGbE6LWEA75j"
   },
   "source": [
    "We can also make use of our counter class to examine the most common bigrams in the corpus, as follows:"
   ]
  },
  {
   "cell_type": "code",
   "execution_count": 42,
   "metadata": {
    "id": "JefH9K6TA75j"
   },
   "outputs": [],
   "source": [
    "import collections\n",
    "bigram_counter = collections.Counter()\n",
    "for key in bigram_model.vocab.keys():\n",
    "    if key.find('_')>-1: # the decode is needed because Gensims stores keys as bytes\n",
    "        bigram_counter[key] += bigram_model.vocab[key]"
   ]
  },
  {
   "cell_type": "code",
   "execution_count": 43,
   "metadata": {
    "colab": {
     "base_uri": "https://localhost:8080/"
    },
    "id": "72LnWyn2A75k",
    "outputId": "8d0cc7c8-6c26-4ef3-a7a1-6707798e8631"
   },
   "outputs": [
    {
     "data": {
      "text/plain": [
       "[('look_like', 3715),\n",
       " ('watch_movie', 3121),\n",
       " ('ever_see', 2973),\n",
       " ('see_movie', 2752),\n",
       " ('bad_movie', 2727),\n",
       " ('make_movie', 2392),\n",
       " ('year_old', 2389),\n",
       " ('film_make', 2369),\n",
       " ('special_effect', 2308),\n",
       " ('movie_make', 2134),\n",
       " ('one_best', 2030),\n",
       " ('even_though', 1999),\n",
       " ('movie_ever', 1987),\n",
       " ('movie_like', 1921),\n",
       " ('low_budget', 1892),\n",
       " ('make_film', 1882),\n",
       " ('see_film', 1859),\n",
       " ('main_character', 1838),\n",
       " ('waste_time', 1793),\n",
       " ('watch_film', 1664),\n",
       " ('good_movie', 1634),\n",
       " ('horror_movie', 1611),\n",
       " ('much_well', 1532),\n",
       " ('want_see', 1494),\n",
       " ('seem_like', 1473)]"
      ]
     },
     "execution_count": 43,
     "metadata": {},
     "output_type": "execute_result"
    }
   ],
   "source": [
    "bigram_counter.most_common(25)"
   ]
  },
  {
   "cell_type": "markdown",
   "metadata": {
    "id": "ZKzSOo6NA75k"
   },
   "source": [
    "The above bigrams might be frequent. However, you would not consider training individual embeddings for phrases such as *look_like* or *waste_time*. This shows how proper phrase detection in the scope of W2V is nontrivial and would require more work before we can hope to get good results.     "
   ]
  },
  {
   "cell_type": "markdown",
   "metadata": {},
   "source": [
    "### Plotting word vectors\n",
    "It is fairly easy to create a visualization of the trained word vectors. You can find an example of how to do this in the [Kaggle kernel](https://www.kaggle.com/pierremegret/gensim-word2vec-tutorial) mentioned above. Needless to say, many alternative demos are available online; here is just [one example](https://www.kaggle.com/jeffd23/visualizing-word-vectors-with-t-sne). However, to get meaningful results we would need to prepare the data more carefully by, for example, removing too frequent words and too infrequent words. We would also finetune the training, and, overall, invest a lot more work to craft our word embeddings. In practice, we would typically not train our own embeddings from scratch. Instead, we would download pre-trained embeddings, which are available in many flavors (multiple languages, trained on different corpora with different jargon, etc.), and use these in our NLP application. We could also finetune the pre-trained embeddings using our own text data. We will showcase a corresponding approach in a later notebook on sentiment analysis. "
   ]
  }
 ],
 "metadata": {
  "accelerator": "GPU",
  "colab": {
   "collapsed_sections": [],
   "name": "P.II.2_nlp_foundations.ipynb",
   "provenance": []
  },
  "kernelspec": {
   "display_name": "Python 3.8.10 64-bit",
   "language": "python",
   "name": "python3"
  },
  "language_info": {
   "codemirror_mode": {
    "name": "ipython",
    "version": 3
   },
   "file_extension": ".py",
   "mimetype": "text/x-python",
   "name": "python",
   "nbconvert_exporter": "python",
   "pygments_lexer": "ipython3",
   "version": "3.8.10"
  },
  "vscode": {
   "interpreter": {
    "hash": "52634da84371cba311ea128a5ea7cdc41ff074b781779e754b270ff9f8153cee"
   }
  }
 },
 "nbformat": 4,
 "nbformat_minor": 4
}
